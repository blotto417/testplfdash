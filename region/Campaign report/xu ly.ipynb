{
 "cells": [
  {
   "cell_type": "markdown",
   "metadata": {},
   "source": [
    "File plan\n",
    "- Format placement to: instream in-stream\n",
    "infeed -> in-feed\n",
    "newsfeed -> in-feed\n",
    "\n",
    "- Unit -> buying_model\n",
    "\n",
    "File actual:\n",
    "Camp_type -> Objective\n",
    "\n",
    "\n",
    "Cách match:\n",
    "- Các campaign, có startdate và enddate nằm trong khoảng startdate và enddate của actual, is:\n",
    "    - Category\n",
    "    - Brand\n",
    "    - Campaign\n",
    "    - Funnel\n",
    "    - Platform\n",
    "    - Region\n",
    "    - TA\n",
    "    - Placement contain\n",
    "    - Buying model\n",
    "    - Ad format (trong file act sẽ contain VID, có s đằng sau number)"
   ]
  },
  {
   "cell_type": "markdown",
   "metadata": {},
   "source": [
    "# 1. Import Functions"
   ]
  },
  {
   "cell_type": "code",
   "execution_count": 14,
   "metadata": {},
   "outputs": [
    {
     "name": "stdout",
     "output_type": "stream",
     "text": [
      "✅ Connected to MySQL successfully!\n"
     ]
    }
   ],
   "source": [
    "import mysql.connector\n",
    "import pandas as pd\n",
    "import numpy as np\n",
    "from datetime import datetime, timedelta\n",
    "import os\n",
    "import sys\n",
    "import sqlalchemy\n",
    "from sqlalchemy import create_engine, Table, Column, Integer, Float, String, Text, Date, DateTime, Boolean, MetaData\n",
    "\n",
    "def get_data(cursor, table_name, start_date=None, end_date=None):\n",
    "    # If no dates provided, fetch all\n",
    "    if not start_date and not end_date:\n",
    "        query = f\"SELECT * FROM {table_name}\"\n",
    "    else:\n",
    "        # Default to 10-day window if only one date is missing\n",
    "        if not end_date:\n",
    "            end_date = datetime.now()\n",
    "        if not start_date:\n",
    "            start_date = end_date - timedelta(days=10)\n",
    "\n",
    "        # Ensure strings\n",
    "        if isinstance(start_date, datetime):\n",
    "            start_str = start_date.strftime('%Y-%m-%d')\n",
    "        else:\n",
    "            start_str = str(start_date)\n",
    "\n",
    "        if isinstance(end_date, datetime):\n",
    "            end_str = end_date.strftime('%Y-%m-%d')\n",
    "        else:\n",
    "            end_str = str(end_date)\n",
    "\n",
    "        query = f\"\"\"\n",
    "            SELECT * FROM {table_name}\n",
    "            WHERE report_date >= '{start_str}' AND report_date <= '{end_str}'\n",
    "        \"\"\"\n",
    "\n",
    "    cursor.execute(query)\n",
    "    column_names = [desc[0] for desc in cursor.description]\n",
    "    rows = cursor.fetchall()\n",
    "\n",
    "    df = pd.DataFrame(rows, columns=column_names)\n",
    "    return df\n",
    "\n",
    "def split_and_assign(df, column, column_type):\n",
    "    # Define expected columns inside the function\n",
    "    expected_columns_map = {\n",
    "        \"campaign_name\": ['camp_code', 'platform', 'camp_type', 'buying_type', 'free_text1', 'year', 'optimization', 'buying_model', 'placement', 'freetext_2'],\n",
    "        \"adgroup_name\": ['noneed_1', 'noneed_2', 'noneed_3', 'noneed_4', 'noneed_5', 'noneed_6', 'noneed_7', 'noneed_8', 'bidding_strategy', 'noneed_9'],\n",
    "        \"ad_name\": ['creative_type', 'creative_format', 'creative_length', 'noneed_9', 'noneed_10', 'noneed_11', 'noneed_12', 'noneed_13', 'freetext_3'],\n",
    "    }\n",
    "\n",
    "    expected_columns = expected_columns_map.get(column_type, [])\n",
    "\n",
    "    if column in df.columns:\n",
    "        df[column] = df[column].fillna(\"\").astype(str)\n",
    "        split_cols = df[column].str.split('_', expand=True)\n",
    "\n",
    "        # Pad with NaNs if needed\n",
    "        num_actual_cols = split_cols.shape[1]\n",
    "        num_expected_cols = len(expected_columns)\n",
    "        if num_actual_cols < num_expected_cols:\n",
    "            for i in range(num_actual_cols, num_expected_cols):\n",
    "                split_cols[i] = pd.NA\n",
    "        num_actual_cols = split_cols.shape[1]\n",
    "\n",
    "        assigned_names = expected_columns[:num_actual_cols]\n",
    "        extra_names = [f\"extra_{i}\" for i in range(num_actual_cols - len(assigned_names))]\n",
    "        all_new_names = assigned_names + extra_names\n",
    "        all_new_names = [f\"{name}_split\" if name in df.columns else name for name in all_new_names]\n",
    "\n",
    "        split_cols.columns = all_new_names\n",
    "        df = df.join(split_cols)\n",
    "\n",
    "    # Split 'camp_code' into components\n",
    "    if \"camp_code\" in df.columns:\n",
    "        df[\"camp_code\"] = df[\"camp_code\"].fillna(\"\").astype(str)\n",
    "        campaign_split = df[\"camp_code\"].str.split(\"-\", expand=True)\n",
    "\n",
    "        max_cols = 6\n",
    "        campaign_split = campaign_split.iloc[:, :max_cols]\n",
    "        for i in range(campaign_split.shape[1], max_cols):\n",
    "            campaign_split[i] = np.nan\n",
    "\n",
    "        campaign_split.columns = [\"Funnel\", \"Category\", \"Brand Name\", \"Campaign Name\", \"Start Date\", \"End Date\"]\n",
    "        df = df.drop(columns=[col for col in campaign_split.columns if col in df.columns], errors=\"ignore\")\n",
    "        df = df.join(campaign_split)\n",
    "\n",
    "    # Split 'free_text1' into components\n",
    "    if \"free_text1\" in df.columns:\n",
    "        df[\"free_text1\"] = df[\"free_text1\"].fillna(\"\").astype(str)\n",
    "        freetext_split = df[\"free_text1\"].str.split(\"-\", expand=True)\n",
    "\n",
    "        max_cols = 6\n",
    "        freetext_split = freetext_split.iloc[:, :max_cols]\n",
    "        for i in range(freetext_split.shape[1], max_cols):\n",
    "            freetext_split[i] = np.nan\n",
    "\n",
    "        freetext_split.columns = [\"Audience\", \"Gender\", \"Age\", \"Region\", \"Device\", \"Os\"]\n",
    "        df = df.drop(columns=[col for col in freetext_split.columns if col in df.columns], errors=\"ignore\")\n",
    "        df = df.join(freetext_split)\n",
    "\n",
    "    # Create TA column\n",
    "    if \"Gender\" in df.columns and \"Age\" in df.columns:\n",
    "        df[\"Gender\"] = df[\"Gender\"].astype(str)\n",
    "        df[\"Age\"] = df[\"Age\"].astype(str).str.zfill(4)\n",
    "        df[\"TA\"] = df[\"Gender\"] + df[\"Age\"].str[:2] + \"-\" + df[\"Age\"].str[2:]\n",
    "\n",
    "    # Format Start and End Dates\n",
    "    if \"Start Date\" in df.columns and \"End Date\" in df.columns and \"year\" in df.columns:\n",
    "        df[\"year\"] = df[\"year\"].astype(str)\n",
    "\n",
    "        def format_date(row, col):\n",
    "            if pd.notna(row[col]) and len(row[col]) == 4:\n",
    "                return f\"{row['year'][:2]}{row[col][:2]}-{row[col][2:]}\"\n",
    "            return None\n",
    "\n",
    "        df[\"Start Date\"] = df.apply(lambda row: format_date(row, \"Start Date\"), axis=1)\n",
    "        df[\"End Date\"] = df.apply(lambda row: format_date(row, \"End Date\"), axis=1)\n",
    "\n",
    "        df[\"Start Date\"] = pd.to_datetime(df[\"Start Date\"], format=\"%Y-%m-%d\", errors=\"coerce\")\n",
    "        df[\"End Date\"] = pd.to_datetime(df[\"End Date\"], format=\"%Y-%m-%d\", errors=\"coerce\")\n",
    "\n",
    "    # Create ad_format column\n",
    "    if all(col in df.columns for col in [\"creative_type\", \"creative_format\", \"creative_length\"]):\n",
    "        df[\"ad_format\"] = df[\"creative_type\"].astype(str) + \"_\" + df[\"creative_format\"].astype(str) + \"_\" + df[\"creative_length\"].astype(str)\n",
    "\n",
    "    # Drop unnecessary columns\n",
    "    df = df.drop(columns=[col for col in df.columns if \"noneed\" in col], errors=\"ignore\")\n",
    "\n",
    "    return df\n",
    "\n",
    "\n",
    "def upload_to_mysql(df, table_name, engine, if_exists='append'):\n",
    "    \"\"\"\n",
    "    Uploads a DataFrame to a MySQL table with correct column types based on the DataFrame.\n",
    "\n",
    "    :param df: Pandas DataFrame to upload\n",
    "    :param table_name: Name of the table in the database\n",
    "    :param engine: SQLAlchemy engine object\n",
    "    :param if_exists: What to do if the table already exists ('fail', 'replace', 'append')\n",
    "    \"\"\"\n",
    "    try:\n",
    "        with engine.connect() as conn:\n",
    "            metadata = MetaData()\n",
    "\n",
    "            # Define table schema based on DataFrame's column types\n",
    "            columns = []\n",
    "\n",
    "            for col in df.columns:\n",
    "                dtype = df[col].dtype\n",
    "                \n",
    "                # Map Pandas dtype to MySQL/SQLAlchemy types\n",
    "                if pd.api.types.is_integer_dtype(dtype):\n",
    "                    col_type = Integer\n",
    "                elif pd.api.types.is_float_dtype(dtype):\n",
    "                    col_type = Float\n",
    "                elif pd.api.types.is_datetime64_any_dtype(dtype):\n",
    "                    col_type = DateTime\n",
    "                elif pd.api.types.is_bool_dtype(dtype):\n",
    "                    col_type = Boolean\n",
    "                elif pd.api.types.is_string_dtype(dtype):\n",
    "                    col_type = Text(collation=\"utf8mb4_unicode_ci\")  # UTF-8 support\n",
    "                else:\n",
    "                    col_type = String(255, collation=\"utf8mb4_unicode_ci\")  # Default fallback\n",
    "\n",
    "                columns.append(Column(col, col_type))\n",
    "\n",
    "            table = Table(table_name, metadata, *columns, extend_existing=True)\n",
    "\n",
    "            # Create the table with utf8mb4 encoding\n",
    "            metadata.create_all(conn)\n",
    "\n",
    "        # Convert object columns to string before uploading\n",
    "        for col in df.select_dtypes(include=['object']).columns:\n",
    "            df[col] = df[col].astype(str)\n",
    "\n",
    "        # Upload DataFrame to MySQL with proper type mapping\n",
    "        dtype_mapping = {\n",
    "            col: (\n",
    "                sqlalchemy.types.Integer if pd.api.types.is_integer_dtype(df[col]) else\n",
    "                sqlalchemy.types.Float if pd.api.types.is_float_dtype(df[col]) else\n",
    "                sqlalchemy.types.DateTime if pd.api.types.is_datetime64_any_dtype(df[col]) else\n",
    "                sqlalchemy.types.Boolean if pd.api.types.is_bool_dtype(df[col]) else\n",
    "                sqlalchemy.types.Text(collation=\"utf8mb4_unicode_ci\") if pd.api.types.is_string_dtype(df[col]) else\n",
    "                sqlalchemy.types.String(255, collation=\"utf8mb4_unicode_ci\")\n",
    "            )\n",
    "            for col in df.columns\n",
    "        }\n",
    "\n",
    "        df.to_sql(table_name, engine, if_exists=if_exists, index=False, dtype=dtype_mapping)\n",
    "\n",
    "        print(f\"✅ Data successfully uploaded to `{table_name}` with correct column types!\")\n",
    "\n",
    "    except Exception as e:\n",
    "        print(f\"❌ Error uploading data to `{table_name}`: {e}\")\n"
   ]
  },
  {
   "cell_type": "markdown",
   "metadata": {},
   "source": [
    "# 2. Import file plan"
   ]
  },
  {
   "cell_type": "code",
   "execution_count": 2,
   "metadata": {},
   "outputs": [
    {
     "data": {
      "application/vnd.microsoft.datawrangler.viewer.v0+json": {
       "columns": [
        {
         "name": "index",
         "rawType": "int64",
         "type": "integer"
        },
        {
         "name": "Campaign",
         "rawType": "object",
         "type": "string"
        },
        {
         "name": "Funnel",
         "rawType": "object",
         "type": "string"
        },
        {
         "name": "Category",
         "rawType": "object",
         "type": "string"
        },
        {
         "name": "Brand",
         "rawType": "object",
         "type": "string"
        },
        {
         "name": "Start_date",
         "rawType": "datetime64[ns]",
         "type": "datetime"
        },
        {
         "name": "End_date",
         "rawType": "datetime64[ns]",
         "type": "datetime"
        },
        {
         "name": "Objective",
         "rawType": "object",
         "type": "string"
        },
        {
         "name": "Region",
         "rawType": "object",
         "type": "string"
        },
        {
         "name": "Platform",
         "rawType": "object",
         "type": "string"
        },
        {
         "name": "Buying_type",
         "rawType": "object",
         "type": "string"
        },
        {
         "name": "Ad_format",
         "rawType": "object",
         "type": "string"
        },
        {
         "name": "Placement",
         "rawType": "object",
         "type": "string"
        },
        {
         "name": "freetext_2",
         "rawType": "float64",
         "type": "float"
        },
        {
         "name": "Custom_audience",
         "rawType": "object",
         "type": "string"
        },
        {
         "name": "TA",
         "rawType": "object",
         "type": "string"
        },
        {
         "name": "Unit",
         "rawType": "object",
         "type": "string"
        },
        {
         "name": "Pool_size",
         "rawType": "int64",
         "type": "integer"
        },
        {
         "name": "KPI",
         "rawType": "int64",
         "type": "integer"
        },
        {
         "name": "net_media_cost",
         "rawType": "int64",
         "type": "integer"
        },
        {
         "name": "reach_plan",
         "rawType": "float64",
         "type": "float"
        },
        {
         "name": "reach_estimate",
         "rawType": "int64",
         "type": "integer"
        },
        {
         "name": "%reach_estimate",
         "rawType": "float64",
         "type": "float"
        },
        {
         "name": "%reach_bm",
         "rawType": "float64",
         "type": "float"
        },
        {
         "name": "reach_combine_estimate",
         "rawType": "float64",
         "type": "float"
        },
        {
         "name": "%reach_combine_estimate",
         "rawType": "float64",
         "type": "float"
        },
        {
         "name": "impression_plan",
         "rawType": "int64",
         "type": "integer"
        },
        {
         "name": "impression_estimate",
         "rawType": "int64",
         "type": "integer"
        },
        {
         "name": "views_plan",
         "rawType": "float64",
         "type": "float"
        },
        {
         "name": "views_estimate",
         "rawType": "int64",
         "type": "integer"
        },
        {
         "name": "engagement_plan",
         "rawType": "float64",
         "type": "float"
        },
        {
         "name": "engagement_estimate",
         "rawType": "float64",
         "type": "float"
        },
        {
         "name": "click_plan",
         "rawType": "float64",
         "type": "float"
        },
        {
         "name": "click_estimate",
         "rawType": "float64",
         "type": "float"
        },
        {
         "name": "frequency_estimate",
         "rawType": "float64",
         "type": "float"
        },
        {
         "name": "frequency_estimate_week",
         "rawType": "float64",
         "type": "float"
        },
        {
         "name": "frequency_combine_estimate_week",
         "rawType": "float64",
         "type": "float"
        },
        {
         "name": "er_estimate",
         "rawType": "float64",
         "type": "float"
        },
        {
         "name": "er_bm",
         "rawType": "float64",
         "type": "float"
        },
        {
         "name": "vtr_estimate",
         "rawType": "float64",
         "type": "float"
        },
        {
         "name": "vtr_bm",
         "rawType": "float64",
         "type": "float"
        },
        {
         "name": "ctr_estimate",
         "rawType": "float64",
         "type": "float"
        },
        {
         "name": "ctr_bm",
         "rawType": "float64",
         "type": "float"
        },
        {
         "name": "exchange_rate",
         "rawType": "int64",
         "type": "integer"
        }
       ],
       "conversionMethod": "pd.DataFrame",
       "ref": "1480872f-526f-4c64-a205-87ca24ed5da3",
       "rows": [
        [
         "0",
         "PackageChange",
         "AW",
         "SBTE",
         "Optimum",
         "2025-03-07 00:00:00",
         "2025-05-04 00:00:00",
         "View Reach Campaign",
         "NAT",
         "YouTube",
         "Auction",
         "Video 15s / Video 6s / KV",
         "Instream",
         null,
         "BroadAudience",
         "F18-44",
         "CPM",
         "7180000",
         "40040000",
         "1398947550",
         null,
         "7150000",
         "0.65",
         "0.65",
         null,
         null,
         "40040000",
         "40040000",
         null,
         "26026000",
         null,
         null,
         null,
         "6006.0",
         "5.6",
         "0.7",
         null,
         null,
         null,
         "0.65",
         "0.65",
         "0.0015",
         "0.0015",
         "25192"
        ],
        [
         "1",
         "PackageChange",
         "AW",
         "SBTE",
         "Optimum",
         "2025-03-07 00:00:00",
         "2025-05-04 00:00:00",
         "Reach",
         "NAT",
         "Facebook",
         "Auction",
         "Video 15s / Video 6s / KV",
         "In-Feed, Story",
         null,
         "BroadAudience",
         "F20-44",
         "CPM",
         "7050000",
         "96217200",
         "1183471560",
         "9060000.0",
         "9060000",
         "0.6",
         "0.6",
         null,
         null,
         "96217200",
         "96217200",
         null,
         "481086",
         null,
         "96217.0",
         null,
         "48109.0",
         "10.6",
         "1.2",
         null,
         "0.001",
         "0.001",
         "0.005",
         "0.005",
         "0.0005",
         "0.0005",
         "25192"
        ],
        [
         "2",
         "PackageChange",
         "AW",
         "SBTE",
         "Optimum",
         "2025-03-07 00:00:00",
         "2025-05-04 00:00:00",
         "Reach",
         "NAT",
         "TikTok",
         "Auction",
         "Video 15s / Video 6s",
         "In-Feed",
         null,
         "BroadAudience",
         "F18-44",
         "CPM",
         "3015000",
         "79882880",
         "1159899418",
         "6240850.0",
         "6240850",
         "0.55",
         "0.55",
         null,
         null,
         "79882880",
         "79882880",
         null,
         "2396486",
         null,
         null,
         null,
         "39941.0",
         "12.8",
         "1.5",
         null,
         null,
         null,
         "0.03",
         "0.03",
         "0.0005",
         "0.0005",
         "25192"
        ],
        [
         "3",
         "PackageChange",
         "AW",
         "SBTE",
         "Optimum",
         "2025-03-07 00:00:00",
         "2025-05-04 00:00:00",
         "Reach",
         "NAT",
         "OTT",
         "Booking",
         "Video 15s / Video 6s",
         "Instream",
         null,
         "BroadAudience",
         "F18-44",
         "CPM",
         "49997",
         "7200000",
         "660960000",
         null,
         "1800000",
         "0.26",
         "0.26",
         null,
         null,
         "7200000",
         "7200000",
         null,
         "4320000",
         null,
         null,
         null,
         "36.0",
         "4.0",
         "0.5",
         null,
         null,
         null,
         "0.6",
         "0.6",
         "0.0005",
         "0.0005",
         "25192"
        ],
        [
         "4",
         "PackageChange",
         "AW",
         "SBTE",
         "Optimum Gold",
         "2025-03-07 00:00:00",
         "2025-05-04 00:00:00",
         "View Reach Campaign",
         "NAT",
         "YouTube",
         "Auction",
         "Video 15s / Video 6s",
         "Instream",
         null,
         "G1",
         "F18-44",
         "CPM",
         "27300",
         "28693615",
         "1002519024",
         null,
         "4667000",
         "0.65",
         "0.65",
         null,
         null,
         "28693615",
         "28693615",
         null,
         "18650849",
         null,
         null,
         null,
         "4304.0",
         "6.1",
         "0.7",
         null,
         null,
         null,
         "0.65",
         "0.65",
         "0.0015",
         "0.0015",
         "25192"
        ]
       ],
       "shape": {
        "columns": 43,
        "rows": 5
       }
      },
      "text/html": [
       "<div>\n",
       "<style scoped>\n",
       "    .dataframe tbody tr th:only-of-type {\n",
       "        vertical-align: middle;\n",
       "    }\n",
       "\n",
       "    .dataframe tbody tr th {\n",
       "        vertical-align: top;\n",
       "    }\n",
       "\n",
       "    .dataframe thead th {\n",
       "        text-align: right;\n",
       "    }\n",
       "</style>\n",
       "<table border=\"1\" class=\"dataframe\">\n",
       "  <thead>\n",
       "    <tr style=\"text-align: right;\">\n",
       "      <th></th>\n",
       "      <th>Campaign</th>\n",
       "      <th>Funnel</th>\n",
       "      <th>Category</th>\n",
       "      <th>Brand</th>\n",
       "      <th>Start_date</th>\n",
       "      <th>End_date</th>\n",
       "      <th>Objective</th>\n",
       "      <th>Region</th>\n",
       "      <th>Platform</th>\n",
       "      <th>Buying_type</th>\n",
       "      <th>...</th>\n",
       "      <th>frequency_estimate</th>\n",
       "      <th>frequency_estimate_week</th>\n",
       "      <th>frequency_combine_estimate_week</th>\n",
       "      <th>er_estimate</th>\n",
       "      <th>er_bm</th>\n",
       "      <th>vtr_estimate</th>\n",
       "      <th>vtr_bm</th>\n",
       "      <th>ctr_estimate</th>\n",
       "      <th>ctr_bm</th>\n",
       "      <th>exchange_rate</th>\n",
       "    </tr>\n",
       "  </thead>\n",
       "  <tbody>\n",
       "    <tr>\n",
       "      <th>0</th>\n",
       "      <td>PackageChange</td>\n",
       "      <td>AW</td>\n",
       "      <td>SBTE</td>\n",
       "      <td>Optimum</td>\n",
       "      <td>2025-03-07</td>\n",
       "      <td>2025-05-04</td>\n",
       "      <td>View Reach Campaign</td>\n",
       "      <td>NAT</td>\n",
       "      <td>YouTube</td>\n",
       "      <td>Auction</td>\n",
       "      <td>...</td>\n",
       "      <td>5.6</td>\n",
       "      <td>0.7</td>\n",
       "      <td>NaN</td>\n",
       "      <td>NaN</td>\n",
       "      <td>NaN</td>\n",
       "      <td>0.650</td>\n",
       "      <td>0.650</td>\n",
       "      <td>0.0015</td>\n",
       "      <td>0.0015</td>\n",
       "      <td>25192</td>\n",
       "    </tr>\n",
       "    <tr>\n",
       "      <th>1</th>\n",
       "      <td>PackageChange</td>\n",
       "      <td>AW</td>\n",
       "      <td>SBTE</td>\n",
       "      <td>Optimum</td>\n",
       "      <td>2025-03-07</td>\n",
       "      <td>2025-05-04</td>\n",
       "      <td>Reach</td>\n",
       "      <td>NAT</td>\n",
       "      <td>Facebook</td>\n",
       "      <td>Auction</td>\n",
       "      <td>...</td>\n",
       "      <td>10.6</td>\n",
       "      <td>1.2</td>\n",
       "      <td>NaN</td>\n",
       "      <td>0.001</td>\n",
       "      <td>0.001</td>\n",
       "      <td>0.005</td>\n",
       "      <td>0.005</td>\n",
       "      <td>0.0005</td>\n",
       "      <td>0.0005</td>\n",
       "      <td>25192</td>\n",
       "    </tr>\n",
       "    <tr>\n",
       "      <th>2</th>\n",
       "      <td>PackageChange</td>\n",
       "      <td>AW</td>\n",
       "      <td>SBTE</td>\n",
       "      <td>Optimum</td>\n",
       "      <td>2025-03-07</td>\n",
       "      <td>2025-05-04</td>\n",
       "      <td>Reach</td>\n",
       "      <td>NAT</td>\n",
       "      <td>TikTok</td>\n",
       "      <td>Auction</td>\n",
       "      <td>...</td>\n",
       "      <td>12.8</td>\n",
       "      <td>1.5</td>\n",
       "      <td>NaN</td>\n",
       "      <td>NaN</td>\n",
       "      <td>NaN</td>\n",
       "      <td>0.030</td>\n",
       "      <td>0.030</td>\n",
       "      <td>0.0005</td>\n",
       "      <td>0.0005</td>\n",
       "      <td>25192</td>\n",
       "    </tr>\n",
       "    <tr>\n",
       "      <th>3</th>\n",
       "      <td>PackageChange</td>\n",
       "      <td>AW</td>\n",
       "      <td>SBTE</td>\n",
       "      <td>Optimum</td>\n",
       "      <td>2025-03-07</td>\n",
       "      <td>2025-05-04</td>\n",
       "      <td>Reach</td>\n",
       "      <td>NAT</td>\n",
       "      <td>OTT</td>\n",
       "      <td>Booking</td>\n",
       "      <td>...</td>\n",
       "      <td>4.0</td>\n",
       "      <td>0.5</td>\n",
       "      <td>NaN</td>\n",
       "      <td>NaN</td>\n",
       "      <td>NaN</td>\n",
       "      <td>0.600</td>\n",
       "      <td>0.600</td>\n",
       "      <td>0.0005</td>\n",
       "      <td>0.0005</td>\n",
       "      <td>25192</td>\n",
       "    </tr>\n",
       "    <tr>\n",
       "      <th>4</th>\n",
       "      <td>PackageChange</td>\n",
       "      <td>AW</td>\n",
       "      <td>SBTE</td>\n",
       "      <td>Optimum Gold</td>\n",
       "      <td>2025-03-07</td>\n",
       "      <td>2025-05-04</td>\n",
       "      <td>View Reach Campaign</td>\n",
       "      <td>NAT</td>\n",
       "      <td>YouTube</td>\n",
       "      <td>Auction</td>\n",
       "      <td>...</td>\n",
       "      <td>6.1</td>\n",
       "      <td>0.7</td>\n",
       "      <td>NaN</td>\n",
       "      <td>NaN</td>\n",
       "      <td>NaN</td>\n",
       "      <td>0.650</td>\n",
       "      <td>0.650</td>\n",
       "      <td>0.0015</td>\n",
       "      <td>0.0015</td>\n",
       "      <td>25192</td>\n",
       "    </tr>\n",
       "  </tbody>\n",
       "</table>\n",
       "<p>5 rows × 43 columns</p>\n",
       "</div>"
      ],
      "text/plain": [
       "        Campaign Funnel Category         Brand Start_date   End_date  \\\n",
       "0  PackageChange     AW     SBTE       Optimum 2025-03-07 2025-05-04   \n",
       "1  PackageChange     AW     SBTE       Optimum 2025-03-07 2025-05-04   \n",
       "2  PackageChange     AW     SBTE       Optimum 2025-03-07 2025-05-04   \n",
       "3  PackageChange     AW     SBTE       Optimum 2025-03-07 2025-05-04   \n",
       "4  PackageChange     AW     SBTE  Optimum Gold 2025-03-07 2025-05-04   \n",
       "\n",
       "             Objective Region  Platform Buying_type  ... frequency_estimate  \\\n",
       "0  View Reach Campaign    NAT   YouTube     Auction  ...                5.6   \n",
       "1                Reach    NAT  Facebook     Auction  ...               10.6   \n",
       "2                Reach    NAT    TikTok     Auction  ...               12.8   \n",
       "3                Reach    NAT       OTT     Booking  ...                4.0   \n",
       "4  View Reach Campaign    NAT   YouTube     Auction  ...                6.1   \n",
       "\n",
       "  frequency_estimate_week  frequency_combine_estimate_week er_estimate  er_bm  \\\n",
       "0                     0.7                              NaN         NaN    NaN   \n",
       "1                     1.2                              NaN       0.001  0.001   \n",
       "2                     1.5                              NaN         NaN    NaN   \n",
       "3                     0.5                              NaN         NaN    NaN   \n",
       "4                     0.7                              NaN         NaN    NaN   \n",
       "\n",
       "  vtr_estimate  vtr_bm  ctr_estimate  ctr_bm  exchange_rate  \n",
       "0        0.650   0.650        0.0015  0.0015          25192  \n",
       "1        0.005   0.005        0.0005  0.0005          25192  \n",
       "2        0.030   0.030        0.0005  0.0005          25192  \n",
       "3        0.600   0.600        0.0005  0.0005          25192  \n",
       "4        0.650   0.650        0.0015  0.0015          25192  \n",
       "\n",
       "[5 rows x 43 columns]"
      ]
     },
     "execution_count": 2,
     "metadata": {},
     "output_type": "execute_result"
    }
   ],
   "source": [
    "import pandas as pd\n",
    "df_plan = pd.read_excel('/Users/khanhvx/Desktop/PackageChange plan.xlsx')\n",
    "df_plan.head()"
   ]
  },
  {
   "cell_type": "markdown",
   "metadata": {},
   "source": [
    "## 3. Get Data and xử lý"
   ]
  },
  {
   "cell_type": "code",
   "execution_count": 104,
   "metadata": {},
   "outputs": [
    {
     "name": "stdout",
     "output_type": "stream",
     "text": [
      "MySQL connection closed.\n"
     ]
    }
   ],
   "source": [
    "conn = mysql.connector.connect(\n",
    "    host=\"10.0.0.3\",\n",
    "    port = '3306',\n",
    "    user=\"dashboard_report_vinamilk\",\n",
    "    password=\"6vtRhNxa79zPsfs5\",\n",
    "    database=\"dashboard_report_vinamilk\"\n",
    ")\n",
    "\n",
    "cursor = conn.cursor()\n",
    "\n",
    "\n",
    "\n",
    "df_tt = get_data(\"tiktok_template_5\")\n",
    "df_yt = get_data(\"googleads_performance_daily_raw_v1\")\n",
    "df_fb = get_data(\"facebook_performance_daily_raw\")\n",
    "\n",
    "if 'cursor' in locals():\n",
    "    cursor.close()\n",
    "if 'conn' in locals() and conn.is_connected():\n",
    "    conn.close()\n",
    "    print(\"MySQL connection closed.\")"
   ]
  },
  {
   "cell_type": "code",
   "execution_count": 15,
   "metadata": {},
   "outputs": [],
   "source": [
    "df_map_camp = pd.read_excel('/Users/khanhvx/Downloads/map.xlsx', sheet_name='campaign')\n",
    "df_map_ad = pd.read_excel('/Users/khanhvx/Downloads/map.xlsx', sheet_name='ad')\n",
    "df_map_camp = df_map_camp.drop_duplicates(subset='campaign_id', keep='last')\n",
    "df_map_ad = df_map_ad.drop_duplicates(subset='ad_id', keep='last')\n",
    "\n",
    "\n",
    "# Merge campaign name\n",
    "df_fb = df_fb.merge(df_map_camp[['campaign_id', 'campaign_name']], on='campaign_id', how='left')\n",
    "df_fb['campaign_name_y'] = df_fb['campaign_name_y'].fillna(df_fb['campaign_name_x'])\n",
    "df_fb = df_fb.rename(columns={'campaign_name_y': 'campaign_name'}).drop(columns=['campaign_name_x'])\n",
    "\n",
    "# Merge ad (dd_name) from ad_id\n",
    "df_fb = df_fb.merge(df_map_ad[['ad_id', 'ad_name']], on='ad_id', how='left')\n",
    "df_fb['ad_name_y'] = df_fb['ad_name_y'].fillna(df_fb['ad_name_x'])\n",
    "df_fb = df_fb.rename(columns={'ad_name_y': 'ad_name'}).drop(columns=['ad_name_x'])\n",
    "\n",
    "\n",
    "# Merge campaign name\n",
    "df_yt = df_yt.merge(df_map_camp[['campaign_id', 'campaign_name']], on='campaign_id', how='left')\n",
    "df_yt['campaign_name'] = df_yt['campaign_name'].fillna(df_yt['campaign'])\n",
    "df_yt = df_yt.drop(columns=['campaign'])\n",
    "\n",
    "# Merge ad (dd_name) from ad_id\n",
    "df_yt = df_yt.merge(df_map_ad[['ad_id', 'ad_name']], on='ad_id', how='left')\n",
    "df_yt['ad_name'] = df_yt['ad_name'].fillna(df_yt['ad'])\n",
    "df_yt = df_yt.drop(columns=['ad'])\n",
    "\n",
    "# Merge campaign name\n",
    "df_tt = df_tt.merge(df_map_camp[['campaign_id', 'campaign_name']], on='campaign_id', how='left')\n",
    "df_tt['campaign_name_y'] = df_tt['campaign_name_y'].fillna(df_tt['campaign_name_x'])\n",
    "df_tt = df_tt.rename(columns={'campaign_name_y': 'campaign_name'}).drop(columns=['campaign_name_x'])\n",
    "\n",
    "# Merge ad (dd_name) from ad_id\n",
    "df_tt = df_tt.merge(df_map_ad[['ad_id', 'ad_name']], on='ad_id', how='left')\n",
    "df_tt['ad_name_y'] = df_tt['ad_name_y'].fillna(df_tt['ad_name_x'])\n",
    "df_tt = df_tt.rename(columns={'ad_name_y': 'ad_name'}).drop(columns=['ad_name_x'])"
   ]
  },
  {
   "cell_type": "code",
   "execution_count": 16,
   "metadata": {},
   "outputs": [],
   "source": [
    "df_yt['campaign_name'] = df_yt['campaign_name'].str.replace('-0304-0405', '-0703-0405')\n",
    "df_fb['campaign_name'] = df_fb['campaign_name'].str.replace('-0304-0405', '-0703-0405')\n",
    "df_tt['campaign_name'] = df_tt['campaign_name'].str.replace('-0304-0405', '-0703-0405')\n",
    "\n"
   ]
  },
  {
   "cell_type": "code",
   "execution_count": 17,
   "metadata": {},
   "outputs": [],
   "source": [
    "df_fb = df_fb.rename(columns={'impression': 'impressions'})\n",
    "df_total = pd.concat([df_yt, df_fb, df_tt], ignore_index=True)\n",
    "df_total_packagechange = df_total[df_total.campaign_name.str.contains('PackageChange', na=False)]"
   ]
  },
  {
   "cell_type": "code",
   "execution_count": 6,
   "metadata": {},
   "outputs": [
    {
     "data": {
      "application/vnd.microsoft.datawrangler.viewer.v0+json": {
       "columns": [
        {
         "name": "index",
         "rawType": "int64",
         "type": "integer"
        },
        {
         "name": "report_date",
         "rawType": "datetime64[ns]",
         "type": "datetime"
        },
        {
         "name": "campaign_name",
         "rawType": "object",
         "type": "string"
        },
        {
         "name": "campaign_id",
         "rawType": "int64",
         "type": "integer"
        },
        {
         "name": "impressions",
         "rawType": "int64",
         "type": "integer"
        }
       ],
       "conversionMethod": "pd.DataFrame",
       "ref": "7d24589a-7521-40fb-ad91-c613592ada74",
       "rows": [
        [
         "0",
         "2024-12-16 00:00:00",
         " AW-SCA-Sữa Chua Ăn-Nha Đam-1804-1305_TT_REA_AUC_PRO-F-2544-Rural-AllDV-AllOS_2025_IMPR_CPM_IF_VN83-PR0007122500116",
         "1830097232981121",
         "0"
        ],
        [
         "1",
         "2024-12-16 00:00:00",
         " CDS-SCUMS-Probi-SustainQ1-2701-2802_TT_VIEW_AUC_PRO-F-2544-Rural-AllDV-AllOS_2025_VIEW_CPV_IF_VN83-PR0007122500038",
         "1821946962617361",
         "0"
        ],
        [
         "2",
         "2024-12-16 00:00:00",
         "(NEW) CVR-AlLCate-DTC-AWO-Livestream-0105-3105_TT_LSA_AUC_MIXED-P-1854-NAT-AllDV-AllOS_2025_IMPR_CPM_AllPL_11h-15h",
         "1831066737959985",
         "0"
        ],
        [
         "3",
         "2024-12-16 00:00:00",
         "(NEW) CVR-AlLCate-DTC-AWO-Livestream-0105-3105_TT_LSA_AUC_MIXED-P-1854-NAT-AllDV-AllOS_2025_IMPR_CPM_AllPL_19h-23h",
         "1831067557751825",
         "0"
        ],
        [
         "4",
         "2024-12-16 00:00:00",
         "(NEW) CVR-SBTE-AllBrand-AWO-Livestream-0105-3105_TT_LSA_AUC_MIXED-P-1854-NAT-AllDV-AllOS_2025_IMPR_CPM_AllPL_11h-15h",
         "1831070154644497",
         "0"
        ],
        [
         "5",
         "2024-12-16 00:00:00",
         "(NEW) CVR-SBTE-AllBrand-AWO-Livestream-0105-3105_TT_LSA_AUC_MIXED-P-1854-NAT-AllDV-AllOS_2025_IMPR_CPM_AllPL_19h-23h",
         "1831071679211633",
         "0"
        ],
        [
         "6",
         "2024-12-16 00:00:00",
         "(NEW) CVR-SBTE-AllBrand-ECOM-0105-3105_TT_PSA_AUC_MIXED-P-1854-NAT-AllDV-AllOS_2025_IMPR_CPM_AllPL_LifetimeBudget",
         "1830706386348178",
         "0"
        ],
        [
         "7",
         "2024-12-16 00:00:00",
         "(NEW) CVR-SBTE_PS-AllBrand-ECOM-0105-3105_TT_PSA_AUC_MIXED-P-1854-NAT-AllDV-AllOS_2025_IMPR_CPM_AllPL_LifetimeBudget",
         "1831999482079282",
         "0"
        ],
        [
         "8",
         "2024-12-16 00:00:00",
         "(NEW) CVR-SC-GreenFarm-ECOM-0105-3105_TT_VSA_AUC_MIXED-P-1854-NAT-AllDV-AllOS_2025_IMPR_CPM_AllPL_LifetimeBudget",
         "1831540585178193",
         "0"
        ],
        [
         "9",
         "2024-12-16 00:00:00",
         "(NEW) CVR-SCU/SCA-ECOM-0105-3105_TT_PSA_AUC_MIXED-P-1854-NAT-AllDV-AllOS_2025_IMPR_CPM_AllPL_LifetimeBudget",
         "1832170254401697",
         "0"
        ],
        [
         "10",
         "2024-12-16 00:00:00",
         "(NEW) CVR-SN-GreenFarm-AWO-Livestream-0105-3105_TT_LSA_AUC_MIXED-P-1854-NAT-AllDV-AllOS_2025_IMPR_CPM_AllPL_11h-15h",
         "1831069330859026",
         "0"
        ],
        [
         "11",
         "2024-12-16 00:00:00",
         "(NEW) CVR-SN-GreenFarm-AWO-Livestream-0105-3105_TT_LSA_AUC_MIXED-P-1854-NAT-AllDV-AllOS_2025_IMPR_CPM_AllPL_19h-23h",
         "1831068541393057",
         "0"
        ],
        [
         "12",
         "2024-12-16 00:00:00",
         "(NEW) CVR-SN-GreenFarm-ECOM-0105-3105_TT_VSA_AUC_MIXED-P-1854-NAT-AllDV-AllOS_2025_IMPR_CPM_AllPL_LifetimeBudget",
         "1830831316068433",
         "0"
        ],
        [
         "13",
         "2024-12-16 00:00:00",
         "(NEW)CVR-AlLCate-AllBrand-ECOM-0105-3105_TT_PSA_AUC_MIXED-P-1854-NAT-AllDV-AllOS_2025_IMPR_CPM_AllPL_LifetimeBudget",
         "1830709558929649",
         "0"
        ],
        [
         "14",
         "2024-12-16 00:00:00",
         "(NEW)CVR-AlLCate-AllBrand-ECOM-0105-3112_TT_VSA_AUC_MIXED-P-1854-NAT-AllDV-AllOS_2025_IMPR_CPM_AllPL_LifetimeBudget",
         "1830663033630737",
         "0"
        ],
        [
         "15",
         "2024-12-16 00:00:00",
         "(NEW)CVR-SBNL-AllBrand-ECOM-0105-3105_TT_PSA_AUC_MIXED-P-1854-NAT-AllDV-AllOS_2025_IMPR_CPM_AllPL_LifetimeBudget",
         "1830704262321249",
         "0"
        ],
        [
         "16",
         "2024-12-16 00:00:00",
         "(NEW)CVR-SBNL-AllBrand-ECOM-0105-3112_TT_VSA_AUC_MIXED-P-1854-NAT-AllDV-AllOS_2025_IMPR_CPM_AllPL_DailyBudget",
         "1830638902424722",
         "0"
        ],
        [
         "17",
         "2024-12-16 00:00:00",
         "(NEW)CVR-SBTE-AllBrand-ECOM-0105-3112_TT_VSA_AUC_MIXED-P-1854-NAT-AllDV-AllOS_2025_IMPR_CPM_AllPL_LifetimeBudget",
         "1830656592719906",
         "0"
        ],
        [
         "18",
         "2024-12-16 00:00:00",
         "(NEW)CVR-SN-FM100-ECOM-0105-3105_TT_PSA_AUC_MIXED-P-1854-NAT-AllDV-AllOS_2025_IMPR_CPM_AllPL_LifetimeBudget",
         "1830707204474994",
         "0"
        ],
        [
         "19",
         "2024-12-16 00:00:00",
         "(NEW)CVR-SN-FM100-ECOM-0105-3112_TT_VSA_AUC_MIXED-P-1854-NAT-AllDV-AllOS_2025_IMPR_CPM_AllPL_LifetimeBudget",
         "1830660907405329",
         "0"
        ],
        [
         "20",
         "2024-12-16 00:00:00",
         "(NEW)CVR-SN-GreenFarm-ECOM-0105-3105_TT_PSA_AUC_MIXED-P-1854-NAT-AllDV-AllOS_2025_IMPR_CPM_AllPL_LifetimeBudget",
         "1830707783387329",
         "0"
        ],
        [
         "21",
         "2024-12-16 00:00:00",
         "(NEW)CVR-STV-AllBrand-ECOM-0105-3105_TT_PSA_AUC_MIXED-P-1854-NAT-AllDV-AllOS_2025_IMPR_CPM_AllPL_DailyBudget",
         "1830705322688545",
         "0"
        ],
        [
         "22",
         "2024-12-16 00:00:00",
         "(NEW)CVR-STV-AllBrand-ECOM-0105-3105_TT_VSA_AUC_MIXED-P-1854-NAT-AllDV-AllOS_2025_IMPR_CPM_AllPL_LifetimeBudget",
         "1830711431892034",
         "0"
        ],
        [
         "23",
         "2024-12-16 00:00:00",
         "(NEW2) CVR-SBTE-AllBrand-ECOM-0105-3105_TT_PSA_AUC_MIXED-P-1854-NAT-AllDV-AllOS_2025_IMPR_CPM_AllPL_LifetimeBudget",
         "1832002163190818",
         "0"
        ],
        [
         "24",
         "2024-12-16 00:00:00",
         "2025_TIKTOK_BRANDING_SBTE_Dielac_SocialAWO_Engage_AUCTION_CPV_In-feed_18-02_N/A_Grow Plus",
         "1825198826590385",
         "0"
        ],
        [
         "25",
         "2024-12-16 00:00:00",
         "2025_TIKTOK_BRANDING_SBTE_N/A_VNMRewards_Reach_AUCTION_CPM_In-feed_24-01_20-02_VN83-PR0007122500030",
         "1821949325369346",
         "0"
        ],
        [
         "26",
         "2024-12-16 00:00:00",
         "2025_TIKTOK_BRANDING_SBTE_N/A_VNMRewards_View_AUCTION_CPV_In-feed_24-01_20-02_VN83-PR0007122500030",
         "1821949513429105",
         "0"
        ],
        [
         "27",
         "2024-12-16 00:00:00",
         "2025_TIKTOK_BRANDING_SBTE_Optimum Colos_PackageChange_Reach_AUCTION_CPM_In-feed_06-03_05-05_G1",
         "1825307861513250",
         "0"
        ],
        [
         "28",
         "2024-12-16 00:00:00",
         "2025_TIKTOK_BRANDING_SBTE_Optimum_LikenFollower_CommunityInteraction_AUCTION_CPF_In-feed_14-03_31-03_VN83-PR0007122500062-Pros-RTG-LAL",
         "1826545066067121",
         "0"
        ],
        [
         "29",
         "2024-12-16 00:00:00",
         "AW-BDD-Ridielac-BDDSustainMay-1705-1306_TT_REA_AUC_AFF-F-2544-23C-AllDV-AllOS_2025_IMPR_CPM_AllPL-VN83-PR0007122500149",
         "1832077334810833",
         "0"
        ],
        [
         "30",
         "2024-12-16 00:00:00",
         "AW-SBNL-SurePreventGold-SBGPromo-2104-0106_TT_REA_AUC_MIXED-F-2544-20C-AllDV-AllOS_2025_IMPR_CPM_AllPL_Caregivers-VN83-PR0007122500121",
         "1829530313498642",
         "0"
        ],
        [
         "31",
         "2024-12-16 00:00:00",
         "AW-SBNL-SurePreventGold-SBGTet2025-0401-2701_TT_REA_RNF_MIXED-P-2544-20C-AllDV-AllOS_2025_IMPR_CPM_AllPL_Caregivers-VN83-PR0007122500029",
         "1820108041956402",
         "0"
        ],
        [
         "32",
         "2024-12-16 00:00:00",
         "AW-SBTE-AllBrand-LivestreamHCP-0304-0304_TT_CT_AUC_PRO-F-2044-NAT-AllDV-AllOS_2025_REACH_CPM_IF_VN83-PR0007122500064",
         "1828186675900529",
         "0"
        ],
        [
         "33",
         "2024-12-16 00:00:00",
         "AW-SBTE-AllBrand-LivestreamHCP-0304-0304_TT_LSA_AUC_MIXED-F-2044-NAT-AllDV-AllOS_2025_CLICK_CPC_IF_VN83-PR0007122500064",
         "1828188475766849",
         "0"
        ],
        [
         "34",
         "2024-12-16 00:00:00",
         "AW-SBTE-AllBrand-LivestreamHCP-2703-2703_TT_CT_AUC_PRO-F-2044-NAT-AllDV-AllOS_2025_REACH_CPM_IF_VN83-PR0007122500064",
         "1827463560800321",
         "0"
        ],
        [
         "35",
         "2024-12-16 00:00:00",
         "AW-SBTE-AllBrand-LivestreamHCP-2703-2703_TT_LSA_AUC_MIXED-F-2044-NAT-AllDV-AllOS_2025_CLICK_CPC_IF_VN83-PR0007122500064",
         "1827464687955042",
         "0"
        ],
        [
         "36",
         "2024-12-16 00:00:00",
         "AW-SBTE-AllBrand-SBTEReward-0105-3105_TT_REA_AUC_MIXED-F-1844-NAT-AllDV-AllOS_2025_IMPR_CPM_AllPL_NA",
         "1830884164294674",
         "0"
        ],
        [
         "37",
         "2024-12-16 00:00:00",
         "AW-SBTE-AllBrand-TeasingLivestreamHCP-0304-0304_TT_REA_AUC_PRO-F-2044-NAT-AllDV-AllOS_2025_REACH_CPM_IF_VN83-PR0007122500064",
         "1828354937703473",
         "0"
        ],
        [
         "38",
         "2024-12-16 00:00:00",
         "AW-SBTE-AllBrand-TeasingLivestreamHCP-2703-2703_TT_REA_AUC_PRO-F-2044-NAT-AllDV-AllOS_2025_REACH_CPM_IF_VN83-PR0007122500064",
         "1827462216835217",
         "0"
        ],
        [
         "39",
         "2024-12-16 00:00:00",
         "AW-SBTE-DG-PackageChange-0703-0405_TT_REA_AUC_AFF-F-1844-NAT-AllDV-AllOS_2025_IMPR_CPM_AllPL_G1",
         "1825308167811074",
         "0"
        ],
        [
         "40",
         "2024-12-16 00:00:00",
         "AW-SBTE-DG-PackageChange-0703-0405_TT_REA_AUC_AFF-F-1844-NAT-AllDV-AllOS_2025_IMPR_CPM_AllPL_G2",
         "1825308205535265",
         "0"
        ],
        [
         "41",
         "2024-12-16 00:00:00",
         "AW-SBTE-DGP-PackageChange-0703-0405_TT_REA_AUC_AFF-F-1844-NAT-AllDV-AllOS_2025_IMPR_CPM_AllPL_G5",
         "1828820476189874",
         "0"
        ],
        [
         "42",
         "2024-12-16 00:00:00",
         "AW-SBTE-DGP-PackageChange-0703-0405_TT_REA_AUC_AFF-F-1844-NAT-AllDV-AllOS_2025_IMPR_CPM_AllPL_Nhom1",
         "1826825493509170",
         "0"
        ],
        [
         "43",
         "2024-12-16 00:00:00",
         "AW-SBTE-DGP-PackageChange-0703-0405_TT_REA_AUC_AFF-F-1844-NAT-AllDV-AllOS_2025_IMPR_CPM_AllPL_Nhom1 adhoc",
         "1827191315090433",
         "0"
        ],
        [
         "44",
         "2024-12-16 00:00:00",
         "AW-SBTE-DGP-PackageChange-0703-0405_TT_REA_AUC_AFF-F-1844-NAT-AllDV-AllOS_2025_IMPR_CPM_AllPL_Nhom2",
         "1827081310595202",
         "0"
        ],
        [
         "45",
         "2024-12-16 00:00:00",
         "AW-SBTE-DGP-PackageChange-0703-0405_TT_REA_AUC_AFF-F-1844-NAT-AllDV-AllOS_2025_IMPR_CPM_AllPL_Nhom3",
         "1827249658188817",
         "0"
        ],
        [
         "46",
         "2024-12-16 00:00:00",
         "AW-SBTE-DGP-PackageChange-0703-0405_TT_REA_RNF_AFF-F-1844-NAT-AllDV-AllOS_2025_IMPR_CPM_AllPL_Nhom1",
         "1831354649861122",
         "0"
        ],
        [
         "47",
         "2024-12-16 00:00:00",
         "AW-SBTE-Optimum Colos-PackageChange-0703-0405_TT_REA_AUC_AFF-F-1844-NAT-AllDV-AllOS_2025_IMPR_CPM_AllPL_G1",
         "1826905078461522",
         "0"
        ],
        [
         "48",
         "2024-12-16 00:00:00",
         "AW-SBTE-Optimum Colos-PackageChange-0703-0405_TT_REA_AUC_AFF-F-1844-NAT-AllDV-AllOS_2025_IMPR_CPM_AllPL_G34",
         "1825307949398050",
         "0"
        ],
        [
         "49",
         "2024-12-16 00:00:00",
         "AW-SBTE-Optimum Gold-PackageChange-0703-0405_TT_REA_AUC_1PD-P-18plus-NAT-AllDV-AllOS_2025_IMPR_CPM_AllPL_G2",
         "1829369838879825",
         "0"
        ]
       ],
       "shape": {
        "columns": 4,
        "rows": 9525
       }
      },
      "text/html": [
       "<div>\n",
       "<style scoped>\n",
       "    .dataframe tbody tr th:only-of-type {\n",
       "        vertical-align: middle;\n",
       "    }\n",
       "\n",
       "    .dataframe tbody tr th {\n",
       "        vertical-align: top;\n",
       "    }\n",
       "\n",
       "    .dataframe thead th {\n",
       "        text-align: right;\n",
       "    }\n",
       "</style>\n",
       "<table border=\"1\" class=\"dataframe\">\n",
       "  <thead>\n",
       "    <tr style=\"text-align: right;\">\n",
       "      <th></th>\n",
       "      <th>report_date</th>\n",
       "      <th>campaign_name</th>\n",
       "      <th>campaign_id</th>\n",
       "      <th>impressions</th>\n",
       "    </tr>\n",
       "  </thead>\n",
       "  <tbody>\n",
       "    <tr>\n",
       "      <th>0</th>\n",
       "      <td>2024-12-16</td>\n",
       "      <td>AW-SCA-Sữa Chua Ăn-Nha Đam-1804-1305_TT_REA_A...</td>\n",
       "      <td>1830097232981121</td>\n",
       "      <td>0</td>\n",
       "    </tr>\n",
       "    <tr>\n",
       "      <th>1</th>\n",
       "      <td>2024-12-16</td>\n",
       "      <td>CDS-SCUMS-Probi-SustainQ1-2701-2802_TT_VIEW_A...</td>\n",
       "      <td>1821946962617361</td>\n",
       "      <td>0</td>\n",
       "    </tr>\n",
       "    <tr>\n",
       "      <th>2</th>\n",
       "      <td>2024-12-16</td>\n",
       "      <td>(NEW) CVR-AlLCate-DTC-AWO-Livestream-0105-3105...</td>\n",
       "      <td>1831066737959985</td>\n",
       "      <td>0</td>\n",
       "    </tr>\n",
       "    <tr>\n",
       "      <th>3</th>\n",
       "      <td>2024-12-16</td>\n",
       "      <td>(NEW) CVR-AlLCate-DTC-AWO-Livestream-0105-3105...</td>\n",
       "      <td>1831067557751825</td>\n",
       "      <td>0</td>\n",
       "    </tr>\n",
       "    <tr>\n",
       "      <th>4</th>\n",
       "      <td>2024-12-16</td>\n",
       "      <td>(NEW) CVR-SBTE-AllBrand-AWO-Livestream-0105-31...</td>\n",
       "      <td>1831070154644497</td>\n",
       "      <td>0</td>\n",
       "    </tr>\n",
       "    <tr>\n",
       "      <th>...</th>\n",
       "      <td>...</td>\n",
       "      <td>...</td>\n",
       "      <td>...</td>\n",
       "      <td>...</td>\n",
       "    </tr>\n",
       "    <tr>\n",
       "      <th>9520</th>\n",
       "      <td>2025-05-19</td>\n",
       "      <td>[NO USE] AW-SCA-Sữa Chua Ăn-ThematicLaunch-240...</td>\n",
       "      <td>1827557621235713</td>\n",
       "      <td>0</td>\n",
       "    </tr>\n",
       "    <tr>\n",
       "      <th>9521</th>\n",
       "      <td>2025-05-19</td>\n",
       "      <td>[Test] App-Engagement_ADR</td>\n",
       "      <td>22381899504</td>\n",
       "      <td>0</td>\n",
       "    </tr>\n",
       "    <tr>\n",
       "      <th>9522</th>\n",
       "      <td>2025-05-19</td>\n",
       "      <td>[Test] App-Engagement_IOS</td>\n",
       "      <td>22381886547</td>\n",
       "      <td>0</td>\n",
       "    </tr>\n",
       "    <tr>\n",
       "      <th>9523</th>\n",
       "      <td>2025-05-19</td>\n",
       "      <td>test</td>\n",
       "      <td>22082475081</td>\n",
       "      <td>0</td>\n",
       "    </tr>\n",
       "    <tr>\n",
       "      <th>9524</th>\n",
       "      <td>2025-05-19</td>\n",
       "      <td>test 14 May</td>\n",
       "      <td>22554733379</td>\n",
       "      <td>0</td>\n",
       "    </tr>\n",
       "  </tbody>\n",
       "</table>\n",
       "<p>9525 rows × 4 columns</p>\n",
       "</div>"
      ],
      "text/plain": [
       "     report_date                                      campaign_name  \\\n",
       "0     2024-12-16   AW-SCA-Sữa Chua Ăn-Nha Đam-1804-1305_TT_REA_A...   \n",
       "1     2024-12-16   CDS-SCUMS-Probi-SustainQ1-2701-2802_TT_VIEW_A...   \n",
       "2     2024-12-16  (NEW) CVR-AlLCate-DTC-AWO-Livestream-0105-3105...   \n",
       "3     2024-12-16  (NEW) CVR-AlLCate-DTC-AWO-Livestream-0105-3105...   \n",
       "4     2024-12-16  (NEW) CVR-SBTE-AllBrand-AWO-Livestream-0105-31...   \n",
       "...          ...                                                ...   \n",
       "9520  2025-05-19  [NO USE] AW-SCA-Sữa Chua Ăn-ThematicLaunch-240...   \n",
       "9521  2025-05-19                          [Test] App-Engagement_ADR   \n",
       "9522  2025-05-19                          [Test] App-Engagement_IOS   \n",
       "9523  2025-05-19                                               test   \n",
       "9524  2025-05-19                                        test 14 May   \n",
       "\n",
       "           campaign_id  impressions  \n",
       "0     1830097232981121            0  \n",
       "1     1821946962617361            0  \n",
       "2     1831066737959985            0  \n",
       "3     1831067557751825            0  \n",
       "4     1831070154644497            0  \n",
       "...                ...          ...  \n",
       "9520  1827557621235713            0  \n",
       "9521       22381899504            0  \n",
       "9522       22381886547            0  \n",
       "9523       22082475081            0  \n",
       "9524       22554733379            0  \n",
       "\n",
       "[9525 rows x 4 columns]"
      ]
     },
     "execution_count": 6,
     "metadata": {},
     "output_type": "execute_result"
    }
   ],
   "source": [
    "import pandas as pd\n",
    "\n",
    "\n",
    "# Ensure report_date is in datetime format\n",
    "df_total['report_date'] = pd.to_datetime(df_total['report_date'])\n",
    "\n",
    "# Group by campaign_name, campaign_id, and weekly bins from Monday to Sunday\n",
    "df_weekly = df_total.groupby([\n",
    "    pd.Grouper(key='report_date', freq='W-SUN'),\n",
    "    'campaign_name',\n",
    "    'campaign_id'\n",
    "]).agg({'impressions': 'sum'}).reset_index()\n",
    "\n",
    "# Adjust report_date to start of the week (Monday)\n",
    "df_weekly['report_date'] = df_weekly['report_date'] - pd.Timedelta(days=6)\n",
    "\n",
    "# Display the result\n",
    "df_weekly"
   ]
  },
  {
   "cell_type": "code",
   "execution_count": 7,
   "metadata": {},
   "outputs": [],
   "source": [
    "df_reach= pd.read_excel('/Users/khanhvx/Downloads/reach SN.xlsx', sheet_name='Sheet1')\n",
    "df_reach = df_reach.merge(\n",
    "    df_weekly[['campaign_id', 'report_date', 'impressions']], \n",
    "    on=['campaign_id', 'report_date'], \n",
    "    how='left'\n",
    ")"
   ]
  },
  {
   "cell_type": "code",
   "execution_count": 8,
   "metadata": {},
   "outputs": [
    {
     "data": {
      "application/vnd.microsoft.datawrangler.viewer.v0+json": {
       "columns": [
        {
         "name": "index",
         "rawType": "int64",
         "type": "integer"
        },
        {
         "name": "customer id",
         "rawType": "int64",
         "type": "integer"
        },
        {
         "name": "customer",
         "rawType": "object",
         "type": "string"
        },
        {
         "name": "campaign_name",
         "rawType": "object",
         "type": "string"
        },
        {
         "name": "campaign_id",
         "rawType": "int64",
         "type": "integer"
        },
        {
         "name": "Reach",
         "rawType": "int64",
         "type": "integer"
        },
        {
         "name": "impression",
         "rawType": "int64",
         "type": "integer"
        },
        {
         "name": "report_date",
         "rawType": "datetime64[ns]",
         "type": "datetime"
        },
        {
         "name": "impressions",
         "rawType": "float64",
         "type": "float"
        }
       ],
       "conversionMethod": "pd.DataFrame",
       "ref": "4f872330-6d33-4b1f-8d21-6015f831f83b",
       "rows": [
        [
         "0",
         "4405135390",
         "VNM_SN_2025",
         "AW-SN-FM100-FM100PromoSustainJan-0301-2101_YT_VRC_AUC_MIXED-F-2544-NAT-AllDV-AllOS_2025_IMPR_CPM_AllPL_VN83-PR0007122500026",
         "22092016942",
         "0",
         "0",
         "2025-05-12 00:00:00",
         "0.0"
        ],
        [
         "1",
         "4405135390",
         "VNM_SN_2025",
         "AW-SN-FM100-FM100PromoSustainFeb-0802-2502_YT_VRC_AUC_MIXED-F-2544-NAT-AllDV-AllOS_2025_IMPR_CPM_AllPL_VN83-PR0007122500026",
         "22209786637",
         "0",
         "0",
         "2025-05-12 00:00:00",
         "0.0"
        ],
        [
         "2",
         "4405135390",
         "VNM_SN_2025",
         "Video Sequence - 2025-03-05",
         "22312630450",
         "0",
         "0",
         "2025-05-12 00:00:00",
         "0.0"
        ],
        [
         "3",
         "4405135390",
         "VNM_SN_2025",
         "AW-SN-Fino-FinoPromoSustain-1203-3103_YT_VRC_AUC_MIXED-F-2544-31C-AllDV-AllOS_2025_IMPR_CPM_AllPL_31Cities(the rest)-VN83-PR0007122500065",
         "22325801436",
         "0",
         "0",
         "2025-05-12 00:00:00",
         "0.0"
        ],
        [
         "4",
         "4405135390",
         "VNM_SN_2025",
         "AW-SN-Fino-FinoPromoSustain-1203-3103_YT_VRC_AUC_MIXED-F-2544-32C-AllDV-AllOS_2025_IMPR_CPM_AllPL_32Cities(focus)-VN83-PR0007122500065",
         "22334929651",
         "0",
         "0",
         "2025-05-12 00:00:00",
         "0.0"
        ],
        [
         "5",
         "4405135390",
         "VNM_SN_2025",
         "AW-SN-Fino-FinoPromoSustain-2103-2703_YT_VRC_AUC_MIXED-F-2544-MT1MT2-AllDV-AllOS_2025_IMPR_CPM_AllPL_MT1MT2-VN83-PR0007122500065",
         "22356365700",
         "0",
         "0",
         "2025-05-12 00:00:00",
         "0.0"
        ],
        [
         "6",
         "4405135390",
         "VNM_SN_2025",
         "AW-SN-FM100-FM100 Promotion Apr-May-2603-1604_GG_VRC_AUC_MIXED-F-2544-NAT-AllDV-AllOS_2025_IMPR_CPM_AllPL_PromoLauching",
         "22363115246",
         "0",
         "0",
         "2025-05-12 00:00:00",
         "0.0"
        ],
        [
         "7",
         "4405135390",
         "VNM_SN_2025",
         "AW-SN-FM100-FM100 Promotion Apr-May-2603-1604_GG_VRC_AUC_MIXED-F-2544-NAT-AllDV-AllOS_2025_IMPR_CPM_AllPL_PromoLauching-Phase2-PR0007122500087",
         "22449604773",
         "0",
         "0",
         "2025-05-12 00:00:00",
         "0.0"
        ],
        [
         "8",
         "4405135390",
         "VNM_SN_2025",
         "AW-SN-FM100-ChuoiDuaPromoApr-May-2504-0605_GG_VRC_AUC_MIXED-F-2544-NAT-AllDV-AllOS_2025_IMPR_CPM_AllPL_PromoLauching-Phase2",
         "22477269516",
         "0",
         "0",
         "2025-05-12 00:00:00",
         "0.0"
        ],
        [
         "9",
         "4405135390",
         "VNM_SN_2025",
         "AW-SN-FM100-FM100 Promotion Apr-May-1005-3005_GG_VRC_AUC_MIXED-F-2544-NAT-AllDV-AllOS_2025_IMPR_CPM_AllPL_PromoLauching-Phase3-PR0007122500143",
         "22530534621",
         "6695099",
         "9517970",
         "2025-05-12 00:00:00",
         "9497518.0"
        ],
        [
         "10",
         "4405135390",
         "VNM_SN_2025",
         "AW-SN-Fino-ADMMVLaunch-1405-2505_GG_VRC_AUC_MIXED-P-All-NAT-AllDV-AllOS_2025_IMPR_CPM_AllPL_KIdChannels",
         "22539518148",
         "0",
         "0",
         "2025-05-12 00:00:00",
         null
        ],
        [
         "11",
         "4405135390",
         "VNM_SN_2025",
         "AW-SN-Fino-ADMMVLaunch-1405-2505_GG_VRC_AUC_MIXED-F-2544-35C-AllDV-AllOS_2025_IMPR_CPM_AllPL_Expansion+TheRest",
         "22539518847",
         "0",
         "0",
         "2025-05-12 00:00:00",
         null
        ],
        [
         "12",
         "4405135390",
         "VNM_SN_2025",
         "AW-SN-FM100-FM100 Promotion Apr-May-2603-1604_GG_VRC_AUC_MIXED-F-2544-NAT-AllDV-AllOS_2025_IMPR_CPM_AllPL_PromoLauching-Phase2 #2",
         "22540383301",
         "0",
         "0",
         "2025-05-12 00:00:00",
         "0.0"
        ],
        [
         "13",
         "4405135390",
         "VNM_SN_2025",
         "AW-SN-FM100-FM100PromoSustainJan-0301-2101_YT_VRC_AUC_MIXED-F-2544-NAT-AllDV-AllOS_2025_IMPR_CPM_AllPL_VN83-PR0007122500026",
         "22092016942",
         "0",
         "0",
         "2025-05-05 00:00:00",
         "0.0"
        ],
        [
         "14",
         "4405135390",
         "VNM_SN_2025",
         "AW-SN-FM100-FM100PromoSustainFeb-0802-2502_YT_VRC_AUC_MIXED-F-2544-NAT-AllDV-AllOS_2025_IMPR_CPM_AllPL_VN83-PR0007122500026",
         "22209786637",
         "0",
         "0",
         "2025-05-05 00:00:00",
         "0.0"
        ],
        [
         "15",
         "4405135390",
         "VNM_SN_2025",
         "Video Sequence - 2025-03-05",
         "22312630450",
         "0",
         "0",
         "2025-05-05 00:00:00",
         "0.0"
        ],
        [
         "16",
         "4405135390",
         "VNM_SN_2025",
         "AW-SN-Fino-FinoPromoSustain-1203-3103_YT_VRC_AUC_MIXED-F-2544-31C-AllDV-AllOS_2025_IMPR_CPM_AllPL_31Cities(the rest)-VN83-PR0007122500065",
         "22325801436",
         "0",
         "0",
         "2025-05-05 00:00:00",
         "0.0"
        ],
        [
         "17",
         "4405135390",
         "VNM_SN_2025",
         "AW-SN-Fino-FinoPromoSustain-1203-3103_YT_VRC_AUC_MIXED-F-2544-32C-AllDV-AllOS_2025_IMPR_CPM_AllPL_32Cities(focus)-VN83-PR0007122500065",
         "22334929651",
         "0",
         "0",
         "2025-05-05 00:00:00",
         "0.0"
        ],
        [
         "18",
         "4405135390",
         "VNM_SN_2025",
         "AW-SN-Fino-FinoPromoSustain-2103-2703_YT_VRC_AUC_MIXED-F-2544-MT1MT2-AllDV-AllOS_2025_IMPR_CPM_AllPL_MT1MT2-VN83-PR0007122500065",
         "22356365700",
         "0",
         "0",
         "2025-05-05 00:00:00",
         "0.0"
        ],
        [
         "19",
         "4405135390",
         "VNM_SN_2025",
         "AW-SN-FM100-FM100 Promotion Apr-May-2603-1604_GG_VRC_AUC_MIXED-F-2544-NAT-AllDV-AllOS_2025_IMPR_CPM_AllPL_PromoLauching",
         "22363115246",
         "0",
         "0",
         "2025-05-05 00:00:00",
         "0.0"
        ],
        [
         "20",
         "4405135390",
         "VNM_SN_2025",
         "AW-SN-FM100-FM100 Promotion Apr-May-2603-1604_GG_VRC_AUC_MIXED-F-2544-NAT-AllDV-AllOS_2025_IMPR_CPM_AllPL_PromoLauching-Phase2-PR0007122500087",
         "22449604773",
         "2045764",
         "5099781",
         "2025-05-05 00:00:00",
         "5099782.0"
        ],
        [
         "21",
         "4405135390",
         "VNM_SN_2025",
         "AW-SN-FM100-ChuoiDuaPromoApr-May-2504-0605_GG_VRC_AUC_MIXED-F-2544-NAT-AllDV-AllOS_2025_IMPR_CPM_AllPL_PromoLauching-Phase2",
         "22477269516",
         "1864731",
         "2193446",
         "2025-05-05 00:00:00",
         "2193448.0"
        ],
        [
         "22",
         "4405135390",
         "VNM_SN_2025",
         "AW-SN-FM100-FM100 Promotion Apr-May-1005-3005_GG_VRC_AUC_MIXED-F-2544-NAT-AllDV-AllOS_2025_IMPR_CPM_AllPL_PromoLauching-Phase3-PR0007122500143",
         "22530534621",
         "2008623",
         "2256662",
         "2025-05-05 00:00:00",
         "0.0"
        ],
        [
         "23",
         "4405135390",
         "VNM_SN_2025",
         "AW-SN-FM100-FM100 Promotion Apr-May-1005-3005_GG_VRC_AUC_MIXED-F-2544-NAT-AllDV-AllOS_2025_IMPR_CPM_AllPL_PromoLauching-Phase3-PR0007122500143",
         "22530534621",
         "2008623",
         "2256662",
         "2025-05-05 00:00:00",
         "2256662.0"
        ],
        [
         "24",
         "4405135390",
         "VNM_SN_2025",
         "AW-SN-Fino-ADMMVLaunch-1405-2505_GG_VRC_AUC_MIXED-P-All-NAT-AllDV-AllOS_2025_IMPR_CPM_AllPL_KIdChannels",
         "22539518148",
         "0",
         "0",
         "2025-05-05 00:00:00",
         null
        ],
        [
         "25",
         "4405135390",
         "VNM_SN_2025",
         "AW-SN-Fino-ADMMVLaunch-1405-2505_GG_VRC_AUC_MIXED-F-2544-35C-AllDV-AllOS_2025_IMPR_CPM_AllPL_Expansion+TheRest",
         "22539518847",
         "0",
         "0",
         "2025-05-05 00:00:00",
         null
        ],
        [
         "26",
         "4405135390",
         "VNM_SN_2025",
         "AW-SN-FM100-FM100 Promotion Apr-May-2603-1604_GG_VRC_AUC_MIXED-F-2544-NAT-AllDV-AllOS_2025_IMPR_CPM_AllPL_PromoLauching-Phase2 #2",
         "22540383301",
         "0",
         "0",
         "2025-05-05 00:00:00",
         "0.0"
        ],
        [
         "27",
         "4405135390",
         "VNM_SN_2025",
         "AW-SN-FM100-FM100PromoSustainJan-0301-2101_YT_VRC_AUC_MIXED-F-2544-NAT-AllDV-AllOS_2025_IMPR_CPM_AllPL_VN83-PR0007122500026",
         "22092016942",
         "0",
         "0",
         "2025-04-28 00:00:00",
         "0.0"
        ],
        [
         "28",
         "4405135390",
         "VNM_SN_2025",
         "AW-SN-FM100-FM100PromoSustainFeb-0802-2502_YT_VRC_AUC_MIXED-F-2544-NAT-AllDV-AllOS_2025_IMPR_CPM_AllPL_VN83-PR0007122500026",
         "22209786637",
         "0",
         "0",
         "2025-04-28 00:00:00",
         "0.0"
        ],
        [
         "29",
         "4405135390",
         "VNM_SN_2025",
         "Video Sequence - 2025-03-05",
         "22312630450",
         "0",
         "0",
         "2025-04-28 00:00:00",
         "0.0"
        ],
        [
         "30",
         "4405135390",
         "VNM_SN_2025",
         "AW-SN-Fino-FinoPromoSustain-1203-3103_YT_VRC_AUC_MIXED-F-2544-31C-AllDV-AllOS_2025_IMPR_CPM_AllPL_31Cities(the rest)-VN83-PR0007122500065",
         "22325801436",
         "0",
         "0",
         "2025-04-28 00:00:00",
         "0.0"
        ],
        [
         "31",
         "4405135390",
         "VNM_SN_2025",
         "AW-SN-Fino-FinoPromoSustain-1203-3103_YT_VRC_AUC_MIXED-F-2544-32C-AllDV-AllOS_2025_IMPR_CPM_AllPL_32Cities(focus)-VN83-PR0007122500065",
         "22334929651",
         "0",
         "0",
         "2025-04-28 00:00:00",
         "0.0"
        ],
        [
         "32",
         "4405135390",
         "VNM_SN_2025",
         "AW-SN-Fino-FinoPromoSustain-2103-2703_YT_VRC_AUC_MIXED-F-2544-MT1MT2-AllDV-AllOS_2025_IMPR_CPM_AllPL_MT1MT2-VN83-PR0007122500065",
         "22356365700",
         "0",
         "0",
         "2025-04-28 00:00:00",
         "0.0"
        ],
        [
         "33",
         "4405135390",
         "VNM_SN_2025",
         "AW-SN-FM100-FM100 Promotion Apr-May-2603-1604_GG_VRC_AUC_MIXED-F-2544-NAT-AllDV-AllOS_2025_IMPR_CPM_AllPL_PromoLauching",
         "22363115246",
         "0",
         "0",
         "2025-04-28 00:00:00",
         "0.0"
        ],
        [
         "34",
         "4405135390",
         "VNM_SN_2025",
         "AW-SN-FM100-FM100 Promotion Apr-May-2603-1604_GG_VRC_AUC_MIXED-F-2544-NAT-AllDV-AllOS_2025_IMPR_CPM_AllPL_PromoLauching-Phase2-PR0007122500087",
         "22449604773",
         "7574242",
         "15354100",
         "2025-04-28 00:00:00",
         "15354101.0"
        ],
        [
         "35",
         "4405135390",
         "VNM_SN_2025",
         "AW-SN-FM100-ChuoiDuaPromoApr-May-2504-0605_GG_VRC_AUC_MIXED-F-2544-NAT-AllDV-AllOS_2025_IMPR_CPM_AllPL_PromoLauching-Phase2",
         "22477269516",
         "7347384",
         "11222000",
         "2025-04-28 00:00:00",
         "11222002.0"
        ],
        [
         "36",
         "4405135390",
         "VNM_SN_2025",
         "AW-SN-FM100-FM100 Promotion Apr-May-1005-3005_GG_VRC_AUC_MIXED-F-2544-NAT-AllDV-AllOS_2025_IMPR_CPM_AllPL_PromoLauching-Phase3-PR0007122500143",
         "22530534621",
         "0",
         "0",
         "2025-04-28 00:00:00",
         "0.0"
        ],
        [
         "37",
         "4405135390",
         "VNM_SN_2025",
         "AW-SN-Fino-ADMMVLaunch-1405-2505_GG_VRC_AUC_MIXED-P-All-NAT-AllDV-AllOS_2025_IMPR_CPM_AllPL_KIdChannels",
         "22539518148",
         "0",
         "0",
         "2025-04-28 00:00:00",
         null
        ],
        [
         "38",
         "4405135390",
         "VNM_SN_2025",
         "AW-SN-Fino-ADMMVLaunch-1405-2505_GG_VRC_AUC_MIXED-F-2544-35C-AllDV-AllOS_2025_IMPR_CPM_AllPL_Expansion+TheRest",
         "22539518847",
         "0",
         "0",
         "2025-04-28 00:00:00",
         null
        ],
        [
         "39",
         "4405135390",
         "VNM_SN_2025",
         "AW-SN-FM100-FM100 Promotion Apr-May-2603-1604_GG_VRC_AUC_MIXED-F-2544-NAT-AllDV-AllOS_2025_IMPR_CPM_AllPL_PromoLauching-Phase2 #2",
         "22540383301",
         "0",
         "0",
         "2025-04-28 00:00:00",
         "0.0"
        ],
        [
         "40",
         "4405135390",
         "VNM_SN_2025",
         "AW-SN-FM100-FM100PromoSustainJan-0301-2101_YT_VRC_AUC_MIXED-F-2544-NAT-AllDV-AllOS_2025_IMPR_CPM_AllPL_VN83-PR0007122500026",
         "22092016942",
         "0",
         "0",
         "2025-04-21 00:00:00",
         "0.0"
        ],
        [
         "41",
         "4405135390",
         "VNM_SN_2025",
         "AW-SN-FM100-FM100PromoSustainFeb-0802-2502_YT_VRC_AUC_MIXED-F-2544-NAT-AllDV-AllOS_2025_IMPR_CPM_AllPL_VN83-PR0007122500026",
         "22209786637",
         "0",
         "0",
         "2025-04-21 00:00:00",
         "0.0"
        ],
        [
         "42",
         "4405135390",
         "VNM_SN_2025",
         "Video Sequence - 2025-03-05",
         "22312630450",
         "0",
         "0",
         "2025-04-21 00:00:00",
         "0.0"
        ],
        [
         "43",
         "4405135390",
         "VNM_SN_2025",
         "AW-SN-Fino-FinoPromoSustain-1203-3103_YT_VRC_AUC_MIXED-F-2544-31C-AllDV-AllOS_2025_IMPR_CPM_AllPL_31Cities(the rest)-VN83-PR0007122500065",
         "22325801436",
         "0",
         "0",
         "2025-04-21 00:00:00",
         "0.0"
        ],
        [
         "44",
         "4405135390",
         "VNM_SN_2025",
         "AW-SN-Fino-FinoPromoSustain-1203-3103_YT_VRC_AUC_MIXED-F-2544-32C-AllDV-AllOS_2025_IMPR_CPM_AllPL_32Cities(focus)-VN83-PR0007122500065",
         "22334929651",
         "0",
         "0",
         "2025-04-21 00:00:00",
         "0.0"
        ],
        [
         "45",
         "4405135390",
         "VNM_SN_2025",
         "AW-SN-Fino-FinoPromoSustain-2103-2703_YT_VRC_AUC_MIXED-F-2544-MT1MT2-AllDV-AllOS_2025_IMPR_CPM_AllPL_MT1MT2-VN83-PR0007122500065",
         "22356365700",
         "0",
         "0",
         "2025-04-21 00:00:00",
         "0.0"
        ],
        [
         "46",
         "4405135390",
         "VNM_SN_2025",
         "AW-SN-FM100-FM100 Promotion Apr-May-2603-1604_GG_VRC_AUC_MIXED-F-2544-NAT-AllDV-AllOS_2025_IMPR_CPM_AllPL_PromoLauching",
         "22363115246",
         "0",
         "0",
         "2025-04-21 00:00:00",
         "0.0"
        ],
        [
         "47",
         "4405135390",
         "VNM_SN_2025",
         "AW-SN-FM100-FM100 Promotion Apr-May-2603-1604_GG_VRC_AUC_MIXED-F-2544-NAT-AllDV-AllOS_2025_IMPR_CPM_AllPL_PromoLauching-Phase2-PR0007122500087",
         "22449604773",
         "6696674",
         "10803071",
         "2025-04-21 00:00:00",
         "10803071.0"
        ],
        [
         "48",
         "4405135390",
         "VNM_SN_2025",
         "AW-SN-FM100-ChuoiDuaPromoApr-May-2504-0605_GG_VRC_AUC_MIXED-F-2544-NAT-AllDV-AllOS_2025_IMPR_CPM_AllPL_PromoLauching-Phase2",
         "22477269516",
         "2168638",
         "2500646",
         "2025-04-21 00:00:00",
         "2500646.0"
        ],
        [
         "49",
         "4405135390",
         "VNM_SN_2025",
         "AW-SN-FM100-FM100 Promotion Apr-May-1005-3005_GG_VRC_AUC_MIXED-F-2544-NAT-AllDV-AllOS_2025_IMPR_CPM_AllPL_PromoLauching-Phase3-PR0007122500143",
         "22530534621",
         "0",
         "0",
         "2025-04-21 00:00:00",
         null
        ]
       ],
       "shape": {
        "columns": 8,
        "rows": 681
       }
      },
      "text/html": [
       "<div>\n",
       "<style scoped>\n",
       "    .dataframe tbody tr th:only-of-type {\n",
       "        vertical-align: middle;\n",
       "    }\n",
       "\n",
       "    .dataframe tbody tr th {\n",
       "        vertical-align: top;\n",
       "    }\n",
       "\n",
       "    .dataframe thead th {\n",
       "        text-align: right;\n",
       "    }\n",
       "</style>\n",
       "<table border=\"1\" class=\"dataframe\">\n",
       "  <thead>\n",
       "    <tr style=\"text-align: right;\">\n",
       "      <th></th>\n",
       "      <th>customer id</th>\n",
       "      <th>customer</th>\n",
       "      <th>campaign_name</th>\n",
       "      <th>campaign_id</th>\n",
       "      <th>Reach</th>\n",
       "      <th>impression</th>\n",
       "      <th>report_date</th>\n",
       "      <th>impressions</th>\n",
       "    </tr>\n",
       "  </thead>\n",
       "  <tbody>\n",
       "    <tr>\n",
       "      <th>0</th>\n",
       "      <td>4405135390</td>\n",
       "      <td>VNM_SN_2025</td>\n",
       "      <td>AW-SN-FM100-FM100PromoSustainJan-0301-2101_YT_...</td>\n",
       "      <td>22092016942</td>\n",
       "      <td>0</td>\n",
       "      <td>0</td>\n",
       "      <td>2025-05-12</td>\n",
       "      <td>0.0</td>\n",
       "    </tr>\n",
       "    <tr>\n",
       "      <th>1</th>\n",
       "      <td>4405135390</td>\n",
       "      <td>VNM_SN_2025</td>\n",
       "      <td>AW-SN-FM100-FM100PromoSustainFeb-0802-2502_YT_...</td>\n",
       "      <td>22209786637</td>\n",
       "      <td>0</td>\n",
       "      <td>0</td>\n",
       "      <td>2025-05-12</td>\n",
       "      <td>0.0</td>\n",
       "    </tr>\n",
       "    <tr>\n",
       "      <th>2</th>\n",
       "      <td>4405135390</td>\n",
       "      <td>VNM_SN_2025</td>\n",
       "      <td>Video Sequence - 2025-03-05</td>\n",
       "      <td>22312630450</td>\n",
       "      <td>0</td>\n",
       "      <td>0</td>\n",
       "      <td>2025-05-12</td>\n",
       "      <td>0.0</td>\n",
       "    </tr>\n",
       "    <tr>\n",
       "      <th>3</th>\n",
       "      <td>4405135390</td>\n",
       "      <td>VNM_SN_2025</td>\n",
       "      <td>AW-SN-Fino-FinoPromoSustain-1203-3103_YT_VRC_A...</td>\n",
       "      <td>22325801436</td>\n",
       "      <td>0</td>\n",
       "      <td>0</td>\n",
       "      <td>2025-05-12</td>\n",
       "      <td>0.0</td>\n",
       "    </tr>\n",
       "    <tr>\n",
       "      <th>4</th>\n",
       "      <td>4405135390</td>\n",
       "      <td>VNM_SN_2025</td>\n",
       "      <td>AW-SN-Fino-FinoPromoSustain-1203-3103_YT_VRC_A...</td>\n",
       "      <td>22334929651</td>\n",
       "      <td>0</td>\n",
       "      <td>0</td>\n",
       "      <td>2025-05-12</td>\n",
       "      <td>0.0</td>\n",
       "    </tr>\n",
       "    <tr>\n",
       "      <th>...</th>\n",
       "      <td>...</td>\n",
       "      <td>...</td>\n",
       "      <td>...</td>\n",
       "      <td>...</td>\n",
       "      <td>...</td>\n",
       "      <td>...</td>\n",
       "      <td>...</td>\n",
       "      <td>...</td>\n",
       "    </tr>\n",
       "    <tr>\n",
       "      <th>676</th>\n",
       "      <td>7007534786</td>\n",
       "      <td>VNM_SN_FM100_2025_VND</td>\n",
       "      <td>AW-SN-Fino-ADMMVLaunch-1405-2505_GG_VRC_AUC_MI...</td>\n",
       "      <td>22546340285</td>\n",
       "      <td>0</td>\n",
       "      <td>0</td>\n",
       "      <td>2025-01-06</td>\n",
       "      <td>NaN</td>\n",
       "    </tr>\n",
       "    <tr>\n",
       "      <th>677</th>\n",
       "      <td>7007534786</td>\n",
       "      <td>VNM_SN_FM100_2025_VND</td>\n",
       "      <td>AW-SN-Fino-ADMMVLaunch-1205-2505_GG_VRC_AUC_MI...</td>\n",
       "      <td>22547514953</td>\n",
       "      <td>0</td>\n",
       "      <td>0</td>\n",
       "      <td>2025-01-06</td>\n",
       "      <td>NaN</td>\n",
       "    </tr>\n",
       "    <tr>\n",
       "      <th>678</th>\n",
       "      <td>7007534786</td>\n",
       "      <td>VNM_SN_FM100_2025_VND</td>\n",
       "      <td>AW-SN-Fino-ADMMVLaunch-1405-2505_GG_VRC_AUC_MI...</td>\n",
       "      <td>22546339583</td>\n",
       "      <td>0</td>\n",
       "      <td>0</td>\n",
       "      <td>2024-12-30</td>\n",
       "      <td>NaN</td>\n",
       "    </tr>\n",
       "    <tr>\n",
       "      <th>679</th>\n",
       "      <td>7007534786</td>\n",
       "      <td>VNM_SN_FM100_2025_VND</td>\n",
       "      <td>AW-SN-Fino-ADMMVLaunch-1405-2505_GG_VRC_AUC_MI...</td>\n",
       "      <td>22546340285</td>\n",
       "      <td>0</td>\n",
       "      <td>0</td>\n",
       "      <td>2024-12-30</td>\n",
       "      <td>NaN</td>\n",
       "    </tr>\n",
       "    <tr>\n",
       "      <th>680</th>\n",
       "      <td>7007534786</td>\n",
       "      <td>VNM_SN_FM100_2025_VND</td>\n",
       "      <td>AW-SN-Fino-ADMMVLaunch-1205-2505_GG_VRC_AUC_MI...</td>\n",
       "      <td>22547514953</td>\n",
       "      <td>0</td>\n",
       "      <td>0</td>\n",
       "      <td>2024-12-30</td>\n",
       "      <td>NaN</td>\n",
       "    </tr>\n",
       "  </tbody>\n",
       "</table>\n",
       "<p>681 rows × 8 columns</p>\n",
       "</div>"
      ],
      "text/plain": [
       "     customer id               customer  \\\n",
       "0     4405135390            VNM_SN_2025   \n",
       "1     4405135390            VNM_SN_2025   \n",
       "2     4405135390            VNM_SN_2025   \n",
       "3     4405135390            VNM_SN_2025   \n",
       "4     4405135390            VNM_SN_2025   \n",
       "..           ...                    ...   \n",
       "676   7007534786  VNM_SN_FM100_2025_VND   \n",
       "677   7007534786  VNM_SN_FM100_2025_VND   \n",
       "678   7007534786  VNM_SN_FM100_2025_VND   \n",
       "679   7007534786  VNM_SN_FM100_2025_VND   \n",
       "680   7007534786  VNM_SN_FM100_2025_VND   \n",
       "\n",
       "                                         campaign_name  campaign_id  Reach  \\\n",
       "0    AW-SN-FM100-FM100PromoSustainJan-0301-2101_YT_...  22092016942      0   \n",
       "1    AW-SN-FM100-FM100PromoSustainFeb-0802-2502_YT_...  22209786637      0   \n",
       "2                          Video Sequence - 2025-03-05  22312630450      0   \n",
       "3    AW-SN-Fino-FinoPromoSustain-1203-3103_YT_VRC_A...  22325801436      0   \n",
       "4    AW-SN-Fino-FinoPromoSustain-1203-3103_YT_VRC_A...  22334929651      0   \n",
       "..                                                 ...          ...    ...   \n",
       "676  AW-SN-Fino-ADMMVLaunch-1405-2505_GG_VRC_AUC_MI...  22546340285      0   \n",
       "677  AW-SN-Fino-ADMMVLaunch-1205-2505_GG_VRC_AUC_MI...  22547514953      0   \n",
       "678  AW-SN-Fino-ADMMVLaunch-1405-2505_GG_VRC_AUC_MI...  22546339583      0   \n",
       "679  AW-SN-Fino-ADMMVLaunch-1405-2505_GG_VRC_AUC_MI...  22546340285      0   \n",
       "680  AW-SN-Fino-ADMMVLaunch-1205-2505_GG_VRC_AUC_MI...  22547514953      0   \n",
       "\n",
       "     impression report_date  impressions  \n",
       "0             0  2025-05-12          0.0  \n",
       "1             0  2025-05-12          0.0  \n",
       "2             0  2025-05-12          0.0  \n",
       "3             0  2025-05-12          0.0  \n",
       "4             0  2025-05-12          0.0  \n",
       "..          ...         ...          ...  \n",
       "676           0  2025-01-06          NaN  \n",
       "677           0  2025-01-06          NaN  \n",
       "678           0  2024-12-30          NaN  \n",
       "679           0  2024-12-30          NaN  \n",
       "680           0  2024-12-30          NaN  \n",
       "\n",
       "[681 rows x 8 columns]"
      ]
     },
     "execution_count": 8,
     "metadata": {},
     "output_type": "execute_result"
    }
   ],
   "source": [
    "df_reach"
   ]
  },
  {
   "cell_type": "code",
   "execution_count": 18,
   "metadata": {},
   "outputs": [],
   "source": [
    "# Assign column names safely (only for expected number of columns)\n",
    "campaign_name_expected_columns = ['camp_code', 'platform', 'camp_type', 'buying_type', 'free_text1', 'year', 'optimization', \n",
    "                    'buying_model', 'placement', 'freetext_2']\n",
    "\n",
    "adgroup_name_expected_columns = ['noneed_1', 'noneed_2', 'noneed_3', 'noneed_4', 'noneed_5', 'noneed_6', 'noneed_7', \n",
    "                    'noneed_8', 'bidding_strategy', 'noneed_9']\n",
    "ad_name_expected_columns = ['creative_type', 'creative_format', 'creative_length', 'noneed_9', 'noneed_10', 'noneed_11', 'noneed_12', \n",
    "                    'noneed_13', 'freetext_3']\n",
    "\n",
    "def split_and_assign(df, column, expected_columns):\n",
    "    # Ensure column exists and is a string\n",
    "    if column in df.columns:\n",
    "        df[column] = df[column].fillna(\"\").astype(str)\n",
    "\n",
    "        # Split column\n",
    "        # Split column\n",
    "        split_cols = df[column].str.split('_', expand=True)\n",
    "\n",
    "        # Get actual and expected counts\n",
    "        num_actual_cols = split_cols.shape[1]\n",
    "        num_expected_cols = len(expected_columns)\n",
    "\n",
    "        # ✅ Pad with NaNs if there are fewer actual columns than expected\n",
    "        if num_actual_cols < num_expected_cols:\n",
    "            for i in range(num_actual_cols, num_expected_cols):\n",
    "                split_cols[i] = pd.NA  # You can also use np.nan\n",
    "\n",
    "        # ✅ Recalculate in case padding added columns\n",
    "        num_actual_cols = split_cols.shape[1]\n",
    "\n",
    "        # Assign column names\n",
    "        assigned_names = expected_columns[:num_actual_cols]\n",
    "        extra_names = [f\"extra_{i}\" for i in range(num_actual_cols - len(assigned_names))]\n",
    "        all_new_names = assigned_names + extra_names\n",
    "        all_new_names = [f\"{name}_split\" if name in df.columns else name for name in all_new_names]\n",
    "\n",
    "        split_cols.columns = all_new_names\n",
    "\n",
    "        # Join back to original DataFrame\n",
    "        df = df.join(split_cols)\n",
    "\n",
    "    # ✅ Fix for 'camp_code' column splitting\n",
    "    if \"camp_code\" in df.columns:\n",
    "        df[\"camp_code\"] = df[\"camp_code\"].fillna(\"\").astype(str)\n",
    "        campaign_split = df[\"camp_code\"].str.split(\"-\", expand=True)\n",
    "\n",
    "        # ✅ Force exactly 6 columns\n",
    "        max_cols = 6\n",
    "        campaign_split = campaign_split.iloc[:, :max_cols]  # Trim extra columns\n",
    "        for i in range(campaign_split.shape[1], max_cols):\n",
    "            campaign_split[i] = np.nan  # Fill missing columns\n",
    "\n",
    "        campaign_split.columns = [\"Funnel\", \"Category\", \"Brand Name\", \"Campaign Name\", \"Start Date\", \"End Date\"]\n",
    "        \n",
    "        # ✅ Drop existing columns before joining\n",
    "        df = df.drop(columns=[col for col in campaign_split.columns if col in df.columns], errors=\"ignore\")\n",
    "        df = df.join(campaign_split)\n",
    "\n",
    "    # ✅ Fix for 'free_text1' column splitting\n",
    "    if \"free_text1\" in df.columns:\n",
    "        df[\"free_text1\"] = df[\"free_text1\"].fillna(\"\").astype(str)\n",
    "        freetext_split = df[\"free_text1\"].str.split(\"-\", expand=True)\n",
    "\n",
    "        # ✅ Force exactly 6 columns\n",
    "        freetext_split = freetext_split.iloc[:, :max_cols]  # Trim extra columns\n",
    "        for i in range(freetext_split.shape[1], max_cols):\n",
    "            freetext_split[i] = np.nan  # Fill missing columns\n",
    "\n",
    "        freetext_split.columns = [\"Audience\", \"Gender\", \"Age\", \"Region\", \"Device\", \"Os\"]\n",
    "\n",
    "        # ✅ Drop existing columns before joining\n",
    "        df = df.drop(columns=[col for col in freetext_split.columns if col in df.columns], errors=\"ignore\")\n",
    "        df = df.join(freetext_split)\n",
    "\n",
    "    # ✅ Create 'TA' column (Target Audience)\n",
    "# ✅ Create 'TA' column (Target Audience)\n",
    "    if \"Gender\" in df.columns and \"Age\" in df.columns:\n",
    "        df[\"Gender\"] = df[\"Gender\"].astype(str)  # Ensure Gender is string\n",
    "        df[\"Age\"] = df[\"Age\"].astype(str).str.zfill(4)  # Ensure Age is string and has at least 4 characters\n",
    "        df[\"TA\"] = df[\"Gender\"] + df[\"Age\"].str[:2] + \"-\" + df[\"Age\"].str[2:]\n",
    "\n",
    "    # ✅ Convert 'Start Date' and 'End Date' into proper format\n",
    "    if \"Start Date\" in df.columns and \"End Date\" in df.columns and \"year\" in df.columns:\n",
    "        df[\"year\"] = df[\"year\"].astype(str)  # Ensure year is a string\n",
    "\n",
    "        def format_date(row, col):\n",
    "            if pd.notna(row[col]) and len(row[col]) == 4:\n",
    "                return f\"{row['year']}-{row[col][2:]}-{row[col][:2]}\"\n",
    "            return None\n",
    "\n",
    "        df[\"Start Date\"] = df.apply(lambda row: format_date(row, \"Start Date\"), axis=1)\n",
    "        df[\"End Date\"] = df.apply(lambda row: format_date(row, \"End Date\"), axis=1)\n",
    "\n",
    "        # Convert to YYYY-MM-DD format\n",
    "        df[\"Start Date\"] = pd.to_datetime(df[\"Start Date\"], format=\"%Y-%m-%d\", errors=\"coerce\")\n",
    "        df[\"End Date\"] = pd.to_datetime(df[\"End Date\"], format=\"%Y-%m-%d\", errors=\"coerce\")\n",
    "\n",
    "    if all(col in df.columns for col in [\"creative_type\", \"creative_format\", \"creative_length\"]):\n",
    "        df[\"ad_format\"] = df[\"creative_type\"].astype(str) + \"_\" + df[\"creative_format\"].astype(str) + \"_\" + df[\"creative_length\"].astype(str)\n",
    "        \n",
    "    # ✅ Remove columns containing \"noneed\"\n",
    "    df = df.drop(columns=[col for col in df.columns if \"noneed\" in col], errors=\"ignore\")\n",
    "\n",
    "\n",
    "    return df\n",
    "\n",
    "\n",
    "def process_campaign_data(df):\n",
    "    \"\"\"Processes a DataFrame by filtering campaigns, splitting columns, and formatting TA & dates.\"\"\"\n",
    "    \n",
    "    # ✅ Filter DataFrame based on campaign prefix\n",
    "    df_filtered = df[df['campaign_name'].str.startswith(('AW', 'CSD', 'CVR'), na=False)].copy()\n",
    "\n",
    "    # ✅ Apply splitting logic\n",
    "    df_filtered = split_and_assign(df_filtered, 'campaign_name', campaign_name_expected_columns)\n",
    "    df_filtered = split_and_assign(df_filtered, 'ad_name', ad_name_expected_columns)\n",
    "\n",
    "    return df_filtered\n",
    "\n",
    "df_yt_filter = process_campaign_data(df_yt)\n",
    "df_fb_filter = process_campaign_data(df_fb)\n",
    "df_tt_filter = process_campaign_data(df_tt)"
   ]
  },
  {
   "cell_type": "code",
   "execution_count": 10,
   "metadata": {},
   "outputs": [],
   "source": [
    "def mapping_naming(df):\n",
    "    mapping_creative_type = {\n",
    "        \"VID\": \"Video\",\n",
    "        \"IMAGE\": \"Image\",\n",
    "        \"BAN\": \"Banner\",\n",
    "        \"AUD\": \"Audio\",\n",
    "        \"TEXT\": \"Text\",\n",
    "        \"DISC\": \"Discovery Ad\",\n",
    "        \"RESAD\": \"Responsive Ad\",\n",
    "        \"ST\": \"Story\",\n",
    "        \"GIF\": \"Gif\",\n",
    "        \"CARO\": \"Carousel\",\n",
    "        \"REEL\": \"Reel\",\n",
    "        \"MULT\": \"Multiple\",\n",
    "        \"DNM\": \"dynamic\",\n",
    "        \"CLT\": \"collec\",\n",
    "        \"TVC\": \"tvc\",\n",
    "        \"SMS\": \"SMS\",\n",
    "        \"LIVESTREAM\": \"livetream\"\n",
    "    }\n",
    "    mapping_campaign_type = {\n",
    "        \"VRC\": \"View Reach Campaign\",\n",
    "        \"VVC\": \"Video View Campaign\",\n",
    "        \"PMAX\": \"PMAX\",\n",
    "        \"DG\": \"DemandGen\",\n",
    "        \"SEM\": \"SEM\",\n",
    "        \"VAC\": \"Video Action Campaign\",\n",
    "        \"REA\": \"Reach\",\n",
    "        \"ENG\": \"Engage\",\n",
    "        \"TRF\": \"Traffic\",\n",
    "        \"LEAD\": \"Lead\",\n",
    "        \"THRU\": \"Thruplay\",\n",
    "        \"PDIS\": \"Programatic Display\",\n",
    "        \"PVID\": \"Programatic Video\",\n",
    "        \"OTT\": \"Programatic OTT\",\n",
    "        \"MH\": \"Masthead\",\n",
    "        \"App\": \"App\",\n",
    "        \"GDN\": \"GDN\",\n",
    "        \"IS\": \"InStream\",\n",
    "        \"BUMP\": \"Bumper\",\n",
    "        \"TVN\": \"Trueview Nonskip\",\n",
    "        \"LSA\": \"Livestream Ads\",\n",
    "        \"CT\": \"Community Interaction\",\n",
    "        \"PSA\": \"Product Shopping Ads\",\n",
    "        \"VSA\": \"Video Shopping Ads\"\n",
    "    }\n",
    "    mapping_platform = {\n",
    "    \"DV360\": \"DV360\",\n",
    "    \"DV360-DISP\": \"DV360 Display\",\n",
    "    \"DV360-VID\": \"DV360 Video (non-YouTube)\",\n",
    "    \"DV360-YT\": \"DV360 YouTube\",\n",
    "    \"GG\": \"Google Ads\",\n",
    "    \"GA-YT\": \"Google Ads YouTube\",\n",
    "    \"GDN\": \"Google Display Network\",\n",
    "    \"D-YT\": \"YouTube Direct\",\n",
    "    \"FB\": \"Facebook\",\n",
    "    \"TT\": \"TikTok\",\n",
    "    \"IG\": \"Instagram\"\n",
    "    }\n",
    "    mapping_campaign_funnel = {\n",
    "    \"AW\": \"Awareness\",\n",
    "    \"CSD\": \"Consideration\",\n",
    "    \"CVR\": \"Conversion\"\n",
    "    }\n",
    "\n",
    "    # Convert creative_type first\n",
    "    df[\"creative_type\"] = df[\"creative_type\"].map(mapping_creative_type)\n",
    "    df[\"camp_type\"] = df[\"camp_type\"].map(mapping_campaign_type)\n",
    "    df[\"platform\"] = df[\"platform\"].map(mapping_platform)\n",
    "    df[\"Funnel\"] = df[\"Funnel\"].map(mapping_campaign_funnel)\n",
    "\n",
    "\n",
    "    # Create ad_format_plan column\n",
    "\n",
    "mapping_naming(df_yt_filter)\n",
    "mapping_naming(df_fb_filter)\n",
    "mapping_naming(df_tt_filter)\n",
    "df_fb_filter[\"ad_format_plan\"] = df_fb_filter[\"creative_type\"].astype(str) + \" \" + df_fb_filter[\"creative_length\"].astype(str)"
   ]
  },
  {
   "cell_type": "markdown",
   "metadata": {},
   "source": [
    "### check campaign status"
   ]
  },
  {
   "cell_type": "code",
   "execution_count": 12,
   "metadata": {},
   "outputs": [
    {
     "data": {
      "application/vnd.microsoft.datawrangler.viewer.v0+json": {
       "columns": [
        {
         "name": "index",
         "rawType": "int64",
         "type": "integer"
        },
        {
         "name": "check_date",
         "rawType": "object",
         "type": "string"
        },
        {
         "name": "campaign_id",
         "rawType": "int64",
         "type": "integer"
        },
        {
         "name": "Status",
         "rawType": "object",
         "type": "string"
        }
       ],
       "conversionMethod": "pd.DataFrame",
       "ref": "d752c6ec-aaa5-4f9e-927a-e7ba73ff560e",
       "rows": [
        [
         "0",
         "2024-12-19",
         "22209786637",
         "Done"
        ],
        [
         "1",
         "2024-12-19",
         "22092016942",
         "Done"
        ],
        [
         "2",
         "2024-12-19",
         "22477269516",
         "Done"
        ],
        [
         "3",
         "2024-12-19",
         "22449604773",
         "Done"
        ],
        [
         "4",
         "2024-12-19",
         "22356365700",
         "Done"
        ],
        [
         "5",
         "2024-12-19",
         "22325801436",
         "Done"
        ],
        [
         "6",
         "2024-12-19",
         "22334929651",
         "Done"
        ],
        [
         "7",
         "2024-12-19",
         "22363115246",
         "Done"
        ],
        [
         "8",
         "2024-12-19",
         "22268262650",
         "Done"
        ],
        [
         "9",
         "2024-12-19",
         "22272206764",
         "Done"
        ],
        [
         "10",
         "2024-12-19",
         "22298904153",
         "Done"
        ],
        [
         "11",
         "2024-12-19",
         "22308781898",
         "Done"
        ],
        [
         "12",
         "2024-12-19",
         "22308720956",
         "Done"
        ],
        [
         "13",
         "2024-12-19",
         "22302245181",
         "Done"
        ],
        [
         "14",
         "2024-12-19",
         "22381812883",
         "Done"
        ],
        [
         "15",
         "2024-12-19",
         "22384837613",
         "Done"
        ],
        [
         "16",
         "2024-12-19",
         "22385079725",
         "Done"
        ],
        [
         "17",
         "2024-12-19",
         "22385111951",
         "Done"
        ],
        [
         "18",
         "2024-12-19",
         "22403933413",
         "Done"
        ],
        [
         "19",
         "2024-12-19",
         "22404016936",
         "Done"
        ],
        [
         "20",
         "2024-12-19",
         "22400494253",
         "Done"
        ],
        [
         "21",
         "2024-12-19",
         "22471166399",
         "Done"
        ],
        [
         "22",
         "2024-12-19",
         "22475115814",
         "Done"
        ],
        [
         "23",
         "2024-12-19",
         "22308367178",
         "Done"
        ],
        [
         "24",
         "2024-12-19",
         "22308399110",
         "Done"
        ],
        [
         "25",
         "2024-12-19",
         "22312096018",
         "Done"
        ],
        [
         "26",
         "2024-12-19",
         "22312108258",
         "Done"
        ],
        [
         "27",
         "2024-12-19",
         "22312103719",
         "Done"
        ],
        [
         "28",
         "2024-12-19",
         "22302162657",
         "Done"
        ],
        [
         "29",
         "2024-12-19",
         "22302158592",
         "Done"
        ],
        [
         "30",
         "2024-12-19",
         "22312402294",
         "Done"
        ],
        [
         "31",
         "2024-12-19",
         "22308709889",
         "Done"
        ],
        [
         "32",
         "2024-12-19",
         "22302228162",
         "Done"
        ],
        [
         "33",
         "2024-12-19",
         "22309480522",
         "Done"
        ],
        [
         "34",
         "2024-12-19",
         "22083119937",
         "Done"
        ],
        [
         "35",
         "2024-12-19",
         "22090800626",
         "Done"
        ],
        [
         "36",
         "2024-12-19",
         "22086801791",
         "Done"
        ],
        [
         "37",
         "2024-12-19",
         "22263927995",
         "Done"
        ],
        [
         "38",
         "2024-12-19",
         "22267822447",
         "Done"
        ],
        [
         "39",
         "2024-12-19",
         "22284594954",
         "Done"
        ],
        [
         "40",
         "2024-12-19",
         "22294009180",
         "Done"
        ],
        [
         "41",
         "2024-12-19",
         "22294029550",
         "Done"
        ],
        [
         "42",
         "2024-12-19",
         "22294029553",
         "Done"
        ],
        [
         "43",
         "2024-12-19",
         "22295003734",
         "Done"
        ],
        [
         "44",
         "2024-12-19",
         "22295003992",
         "Done"
        ],
        [
         "45",
         "2024-12-19",
         "22140816379",
         "Done"
        ],
        [
         "46",
         "2024-12-19",
         "22136711675",
         "Done"
        ],
        [
         "47",
         "2024-12-19",
         "22136711678",
         "Done"
        ],
        [
         "48",
         "2024-12-19",
         "22130336121",
         "Done"
        ],
        [
         "49",
         "2024-12-19",
         "22137186917",
         "Done"
        ]
       ],
       "shape": {
        "columns": 3,
        "rows": 77216
       }
      },
      "text/html": [
       "<div>\n",
       "<style scoped>\n",
       "    .dataframe tbody tr th:only-of-type {\n",
       "        vertical-align: middle;\n",
       "    }\n",
       "\n",
       "    .dataframe tbody tr th {\n",
       "        vertical-align: top;\n",
       "    }\n",
       "\n",
       "    .dataframe thead th {\n",
       "        text-align: right;\n",
       "    }\n",
       "</style>\n",
       "<table border=\"1\" class=\"dataframe\">\n",
       "  <thead>\n",
       "    <tr style=\"text-align: right;\">\n",
       "      <th></th>\n",
       "      <th>check_date</th>\n",
       "      <th>campaign_id</th>\n",
       "      <th>Status</th>\n",
       "    </tr>\n",
       "  </thead>\n",
       "  <tbody>\n",
       "    <tr>\n",
       "      <th>0</th>\n",
       "      <td>2024-12-19</td>\n",
       "      <td>22209786637</td>\n",
       "      <td>Done</td>\n",
       "    </tr>\n",
       "    <tr>\n",
       "      <th>1</th>\n",
       "      <td>2024-12-19</td>\n",
       "      <td>22092016942</td>\n",
       "      <td>Done</td>\n",
       "    </tr>\n",
       "    <tr>\n",
       "      <th>2</th>\n",
       "      <td>2024-12-19</td>\n",
       "      <td>22477269516</td>\n",
       "      <td>Done</td>\n",
       "    </tr>\n",
       "    <tr>\n",
       "      <th>3</th>\n",
       "      <td>2024-12-19</td>\n",
       "      <td>22449604773</td>\n",
       "      <td>Done</td>\n",
       "    </tr>\n",
       "    <tr>\n",
       "      <th>4</th>\n",
       "      <td>2024-12-19</td>\n",
       "      <td>22356365700</td>\n",
       "      <td>Done</td>\n",
       "    </tr>\n",
       "    <tr>\n",
       "      <th>...</th>\n",
       "      <td>...</td>\n",
       "      <td>...</td>\n",
       "      <td>...</td>\n",
       "    </tr>\n",
       "    <tr>\n",
       "      <th>77211</th>\n",
       "      <td>2025-05-19</td>\n",
       "      <td>1821474746296385</td>\n",
       "      <td>Done</td>\n",
       "    </tr>\n",
       "    <tr>\n",
       "      <th>77212</th>\n",
       "      <td>2025-05-19</td>\n",
       "      <td>1825576423191585</td>\n",
       "      <td>Done</td>\n",
       "    </tr>\n",
       "    <tr>\n",
       "      <th>77213</th>\n",
       "      <td>2025-05-19</td>\n",
       "      <td>1832177492056097</td>\n",
       "      <td>Done</td>\n",
       "    </tr>\n",
       "    <tr>\n",
       "      <th>77214</th>\n",
       "      <td>2025-05-19</td>\n",
       "      <td>1832250978302001</td>\n",
       "      <td>On Going</td>\n",
       "    </tr>\n",
       "    <tr>\n",
       "      <th>77215</th>\n",
       "      <td>2025-05-19</td>\n",
       "      <td>1832172982746162</td>\n",
       "      <td>On Going</td>\n",
       "    </tr>\n",
       "  </tbody>\n",
       "</table>\n",
       "<p>77216 rows × 3 columns</p>\n",
       "</div>"
      ],
      "text/plain": [
       "       check_date       campaign_id    Status\n",
       "0      2024-12-19       22209786637      Done\n",
       "1      2024-12-19       22092016942      Done\n",
       "2      2024-12-19       22477269516      Done\n",
       "3      2024-12-19       22449604773      Done\n",
       "4      2024-12-19       22356365700      Done\n",
       "...           ...               ...       ...\n",
       "77211  2025-05-19  1821474746296385      Done\n",
       "77212  2025-05-19  1825576423191585      Done\n",
       "77213  2025-05-19  1832177492056097      Done\n",
       "77214  2025-05-19  1832250978302001  On Going\n",
       "77215  2025-05-19  1832172982746162  On Going\n",
       "\n",
       "[77216 rows x 3 columns]"
      ]
     },
     "execution_count": 12,
     "metadata": {},
     "output_type": "execute_result"
    }
   ],
   "source": [
    "\n",
    "import pandas as pd\n",
    "from datetime import timedelta\n",
    "\n",
    "def detect_inactive_campaigns_by_date(df):\n",
    "    \"\"\"\n",
    "    Detects inactive campaigns for each unique report_date in the dataset.\n",
    "    A campaign is considered 'Done' on a given report_date if it had\n",
    "    zero cost, impressions, and clicks in the 7 days prior to that date.\n",
    "    \n",
    "    Returns a DataFrame with 'check_date', 'campaign_id', and 'Status'.\n",
    "    \"\"\"\n",
    "    df = df.copy()\n",
    "    df['report_date'] = pd.to_datetime(df['report_date'])\n",
    "    \n",
    "    results = []\n",
    "    all_campaigns = df['campaign_id'].unique()\n",
    "\n",
    "    for check_date in sorted(df['report_date'].unique()):\n",
    "        # Define time window: 7 days before check_date\n",
    "        start_date = check_date - timedelta(days=7)\n",
    "        recent = df[(df['report_date'] >= start_date) & (df['report_date'] < check_date)]\n",
    "        \n",
    "        # Sum metrics by campaign\n",
    "        sums = (recent\n",
    "                .groupby('campaign_id')[['cost','impressions','clicks']]\n",
    "                .sum()\n",
    "                .reset_index())\n",
    "\n",
    "        # Include all campaigns\n",
    "        merged = pd.DataFrame({'campaign_id': all_campaigns})\n",
    "        merged = (merged\n",
    "                  .merge(sums, on='campaign_id', how='left')\n",
    "                  .fillna(0))\n",
    "\n",
    "        # Determine status\n",
    "        merged['Status'] = merged.apply(\n",
    "            lambda row: 'Done' if (row[['cost','impressions','clicks']] == 0).all() \n",
    "                        else 'On Going',\n",
    "            axis=1\n",
    "        )\n",
    "\n",
    "        merged['check_date'] = check_date.strftime('%Y-%m-%d')\n",
    "        results.append(merged[['check_date', 'campaign_id', 'Status']])\n",
    "    \n",
    "    return pd.concat(results, ignore_index=True)\n",
    "\n",
    "\n",
    "df_total_filter = pd.concat([df_yt_filter, df_fb_filter, df_tt_filter], ignore_index=True)\n",
    "inactive_campaigns = detect_inactive_campaigns_by_date(df_total_filter)\n",
    "inactive_campaigns"
   ]
  },
  {
   "cell_type": "markdown",
   "metadata": {},
   "source": [
    "### Check lasted day"
   ]
  },
  {
   "cell_type": "code",
   "execution_count": 25,
   "metadata": {},
   "outputs": [
    {
     "data": {
      "application/vnd.microsoft.datawrangler.viewer.v0+json": {
       "columns": [
        {
         "name": "index",
         "rawType": "int64",
         "type": "integer"
        },
        {
         "name": "camp_code",
         "rawType": "object",
         "type": "string"
        },
        {
         "name": "latest_active_date",
         "rawType": "datetime64[ns]",
         "type": "datetime"
        }
       ],
       "conversionMethod": "pd.DataFrame",
       "ref": "f462be3e-6603-47ce-bddc-c2e7403262e5",
       "rows": [
        [
         "0",
         "AW",
         "2025-05-15 00:00:00"
        ],
        [
         "1",
         "AW-?NTC-NTC-SocialAWOFeb-1102-2102",
         "2025-03-14 00:00:00"
        ],
        [
         "2",
         "AW-?NTC-Vfresh-SocialAWOJan-0901-1901",
         "2025-02-03 00:00:00"
        ],
        [
         "3",
         "AW-?SCUMS-Probi-SocialAWOJan-0801-1801",
         "2025-02-13 00:00:00"
        ],
        [
         "4",
         "AW-?SN-FM100-SocialAWOFeb-2402-0503",
         "2025-03-19 00:00:00"
        ],
        [
         "5",
         "AW-?SN-Fino-SocialAWOFeb-1402-2402",
         "2025-02-24 00:00:00"
        ],
        [
         "6",
         "AW-?SN-Fino-SocialAWOJan-1701-2701",
         "2025-03-14 00:00:00"
        ],
        [
         "7",
         "AW-BDD-Ridielac-BDDSustainMay-1705-1306",
         "2025-05-19 00:00:00"
        ],
        [
         "8",
         "AW-SBNL-SurePreventGold-SBGPromo-2104-0106",
         "2025-05-19 00:00:00"
        ],
        [
         "9",
         "AW-SBNL-SurePreventGold-SBGTet2025-0401-2701",
         "2025-01-27 00:00:00"
        ],
        [
         "10",
         "AW-SBNL-SurePreventGold-SPGTet2025-0401-2701",
         "2025-01-27 00:00:00"
        ],
        [
         "11",
         "AW-SBNL-SurePreventGold-SPGTet2025-0701-2701",
         "2025-01-27 00:00:00"
        ],
        [
         "12",
         "AW-SBTE-AllBrand-LivestreamHCP-0304-0304",
         "2025-04-03 00:00:00"
        ],
        [
         "13",
         "AW-SBTE-AllBrand-LivestreamHCP-0805-0805",
         "2025-05-08 00:00:00"
        ],
        [
         "14",
         "AW-SBTE-AllBrand-LivestreamHCP-1505-1505",
         "2025-05-15 00:00:00"
        ],
        [
         "15",
         "AW-SBTE-AllBrand-LivestreamHCP-2703-2703",
         "2025-03-27 00:00:00"
        ],
        [
         "16",
         "AW-SBTE-AllBrand-ReactSuaGia-0505-2305",
         "2025-05-19 00:00:00"
        ],
        [
         "17",
         "AW-SBTE-AllBrand-SBTEReward-0105-3105",
         "2025-05-17 00:00:00"
        ],
        [
         "18",
         "AW-SBTE-AllBrand-SBTEReward-1504-3004",
         "2025-04-30 00:00:00"
        ],
        [
         "19",
         "AW-SBTE-AllBrand-TeasingLivestreamHCP-0304-0304",
         "2025-04-03 00:00:00"
        ],
        [
         "20",
         "AW-SBTE-AllBrand-TeasingLivestreamHCP-1505-1505",
         "2025-05-15 00:00:00"
        ],
        [
         "21",
         "AW-SBTE-AllBrand-TeasingLivestreamHCP-2703-2703",
         "2025-03-27 00:00:00"
        ],
        [
         "22",
         "AW-SBTE-DG-PackageChange-0703-0405",
         "2025-04-25 00:00:00"
        ],
        [
         "23",
         "AW-SBTE-DG-SocialAWO-1802-0104",
         "2025-04-30 00:00:00"
        ],
        [
         "24",
         "AW-SBTE-DGP-PackageChange-0703-0405",
         "2025-05-19 00:00:00"
        ],
        [
         "25",
         "AW-SBTE-DGP-SocialAWO-1802-0104",
         "2025-03-03 00:00:00"
        ],
        [
         "26",
         "AW-SBTE-DGP-SocialAWO-1802-1203",
         "2025-03-10 00:00:00"
        ],
        [
         "27",
         "AW-SBTE-Dielac-SocialAWOApr-2604-0205",
         "2025-05-02 00:00:00"
        ],
        [
         "28",
         "AW-SBTE-Optimum Colos-PackageChange-0703-0405",
         "2025-04-25 00:00:00"
        ],
        [
         "29",
         "AW-SBTE-Optimum Colos-SocialAWO-1802-0104",
         "2025-03-01 00:00:00"
        ],
        [
         "30",
         "AW-SBTE-Optimum Gold-PackageChange-0703-0405",
         "2025-04-25 00:00:00"
        ],
        [
         "31",
         "AW-SBTE-Optimum Gold-SocialAWO-1802-0104",
         "2025-03-10 00:00:00"
        ],
        [
         "32",
         "AW-SBTE-Optimum-PackageChange-0703-0405",
         "2025-04-25 00:00:00"
        ],
        [
         "33",
         "AW-SBTE-Optimum-SocialAWO-1003-0104",
         "2025-05-19 00:00:00"
        ],
        [
         "34",
         "AW-SBTE-Optimum-SocialAWO-1704-3105",
         "2025-04-27 00:00:00"
        ],
        [
         "35",
         "AW-SBTE-Optimum-SocialAWO-1802-0104",
         "2025-05-04 00:00:00"
        ],
        [
         "36",
         "AW-SBTE-Optimum-SocialAWO-1802-0203",
         "2025-03-02 00:00:00"
        ],
        [
         "37",
         "AW-SBTE-Optimum-SocialAWO-1802-1203",
         "2025-03-06 00:00:00"
        ],
        [
         "38",
         "AW-SBTE-Optimum-SocialAWOApr-2604-0205",
         "2025-05-02 00:00:00"
        ],
        [
         "39",
         "AW-SBTE-Yoko-YokoPromotion-0104-2404",
         "2025-04-30 00:00:00"
        ],
        [
         "40",
         "AW-SBTE-Yoko-YokoPromotion-2603-2404",
         "2025-04-24 00:00:00"
        ],
        [
         "41",
         "AW-SCA-SCA-SocialAWOAMar-0104-1004",
         "2025-04-10 00:00:00"
        ],
        [
         "42",
         "AW-SCA-SCA-SocialAWOFeb-1102-2102",
         "2025-02-24 00:00:00"
        ],
        [
         "43",
         "AW-SCA-SCA-SocialAWOJan-0701-1701",
         "2025-02-14 00:00:00"
        ],
        [
         "44",
         "AW-SCA-Sữa Chua Ăn-Nha Đam-1804-1305",
         "2025-05-10 00:00:00"
        ],
        [
         "45",
         "AW-SCA-Sữa Chua Ăn-SocialAWO-0803-1403",
         "2025-03-13 00:00:00"
        ],
        [
         "46",
         "AW-SCA-Sữa Chua Ăn-SocialAWO-2103-2803",
         "2025-03-28 00:00:00"
        ],
        [
         "47",
         "AW-SCA-Sữa Chua Ăn-SocialAWO-2104-2704",
         "2025-04-27 00:00:00"
        ],
        [
         "48",
         "AW-SCA-Sữa Chua Ăn-SocialAWO-2804-0405",
         "2025-05-04 00:00:00"
        ],
        [
         "49",
         "AW-SCA-Sữa Chua Ăn-ThematicLauching-2502-2303",
         "2025-03-06 00:00:00"
        ]
       ],
       "shape": {
        "columns": 2,
        "rows": 174
       }
      },
      "text/html": [
       "<div>\n",
       "<style scoped>\n",
       "    .dataframe tbody tr th:only-of-type {\n",
       "        vertical-align: middle;\n",
       "    }\n",
       "\n",
       "    .dataframe tbody tr th {\n",
       "        vertical-align: top;\n",
       "    }\n",
       "\n",
       "    .dataframe thead th {\n",
       "        text-align: right;\n",
       "    }\n",
       "</style>\n",
       "<table border=\"1\" class=\"dataframe\">\n",
       "  <thead>\n",
       "    <tr style=\"text-align: right;\">\n",
       "      <th></th>\n",
       "      <th>camp_code</th>\n",
       "      <th>latest_active_date</th>\n",
       "    </tr>\n",
       "  </thead>\n",
       "  <tbody>\n",
       "    <tr>\n",
       "      <th>0</th>\n",
       "      <td>AW</td>\n",
       "      <td>2025-05-15</td>\n",
       "    </tr>\n",
       "    <tr>\n",
       "      <th>1</th>\n",
       "      <td>AW-?NTC-NTC-SocialAWOFeb-1102-2102</td>\n",
       "      <td>2025-03-14</td>\n",
       "    </tr>\n",
       "    <tr>\n",
       "      <th>2</th>\n",
       "      <td>AW-?NTC-Vfresh-SocialAWOJan-0901-1901</td>\n",
       "      <td>2025-02-03</td>\n",
       "    </tr>\n",
       "    <tr>\n",
       "      <th>3</th>\n",
       "      <td>AW-?SCUMS-Probi-SocialAWOJan-0801-1801</td>\n",
       "      <td>2025-02-13</td>\n",
       "    </tr>\n",
       "    <tr>\n",
       "      <th>4</th>\n",
       "      <td>AW-?SN-FM100-SocialAWOFeb-2402-0503</td>\n",
       "      <td>2025-03-19</td>\n",
       "    </tr>\n",
       "    <tr>\n",
       "      <th>...</th>\n",
       "      <td>...</td>\n",
       "      <td>...</td>\n",
       "    </tr>\n",
       "    <tr>\n",
       "      <th>169</th>\n",
       "      <td>CVR-SN-GreenFarm-Livestream-2002-2002</td>\n",
       "      <td>2025-02-20</td>\n",
       "    </tr>\n",
       "    <tr>\n",
       "      <th>170</th>\n",
       "      <td>CVR-SN-GreenFarm-Livestream-2302-2302</td>\n",
       "      <td>2025-02-23</td>\n",
       "    </tr>\n",
       "    <tr>\n",
       "      <th>171</th>\n",
       "      <td>CVR-SN-GreenFarm-Livestream-2502-2502</td>\n",
       "      <td>2025-02-25</td>\n",
       "    </tr>\n",
       "    <tr>\n",
       "      <th>172</th>\n",
       "      <td>CVR-SN-GreenFarm-Livestream-2702-2702</td>\n",
       "      <td>2025-02-27</td>\n",
       "    </tr>\n",
       "    <tr>\n",
       "      <th>173</th>\n",
       "      <td>CVR-STV-AllBrand-ECOM-1701-3112</td>\n",
       "      <td>2025-05-01</td>\n",
       "    </tr>\n",
       "  </tbody>\n",
       "</table>\n",
       "<p>174 rows × 2 columns</p>\n",
       "</div>"
      ],
      "text/plain": [
       "                                  camp_code latest_active_date\n",
       "0                                        AW         2025-05-15\n",
       "1        AW-?NTC-NTC-SocialAWOFeb-1102-2102         2025-03-14\n",
       "2     AW-?NTC-Vfresh-SocialAWOJan-0901-1901         2025-02-03\n",
       "3    AW-?SCUMS-Probi-SocialAWOJan-0801-1801         2025-02-13\n",
       "4       AW-?SN-FM100-SocialAWOFeb-2402-0503         2025-03-19\n",
       "..                                      ...                ...\n",
       "169   CVR-SN-GreenFarm-Livestream-2002-2002         2025-02-20\n",
       "170   CVR-SN-GreenFarm-Livestream-2302-2302         2025-02-23\n",
       "171   CVR-SN-GreenFarm-Livestream-2502-2502         2025-02-25\n",
       "172   CVR-SN-GreenFarm-Livestream-2702-2702         2025-02-27\n",
       "173         CVR-STV-AllBrand-ECOM-1701-3112         2025-05-01\n",
       "\n",
       "[174 rows x 2 columns]"
      ]
     },
     "execution_count": 25,
     "metadata": {},
     "output_type": "execute_result"
    }
   ],
   "source": [
    "import pandas as pd\n",
    "\n",
    "def get_latest_active_date_per_campaign(df):\n",
    "    # Ensure report_date is datetime\n",
    "    df['report_date'] = pd.to_datetime(df['report_date'])\n",
    "\n",
    "    # Filter rows with non-zero metrics\n",
    "    active_df = df[(df['cost'] != 0) & \n",
    "                   (df['impressions'] != 0) & \n",
    "                   (df['clicks'] != 0)]\n",
    "\n",
    "    # Group by camp_code and get the latest active date\n",
    "    result_df = (active_df.groupby('camp_code')['report_date']\n",
    "                          .max()\n",
    "                          .reset_index()\n",
    "                          .rename(columns={'report_date': 'latest_active_date'}))\n",
    "    \n",
    "    return result_df\n",
    "\n",
    "\n",
    "latest_active_df = get_latest_active_date_per_campaign(df_total_filter)\n",
    "latest_active_df"
   ]
  },
  {
   "cell_type": "code",
   "execution_count": null,
   "metadata": {},
   "outputs": [
    {
     "name": "stdout",
     "output_type": "stream",
     "text": [
      "✅ Connected to MySQL successfully!\n",
      "❌ Error uploading data to `mapping_campaign_status`: (pymysql.err.DataError) (1264, \"Out of range value for column 'campaign_id' at row 1\")\n",
      "[SQL: INSERT INTO mapping_campaign_status (check_date, campaign_id, `Status`) VALUES (%(check_date)s, %(campaign_id)s, %(Status)s)]\n",
      "[parameters: [{'check_date': datetime.datetime(2024, 12, 19, 0, 0), 'campaign_id': 22209786637, 'Status': 'Done'}, {'check_date': datetime.datetime(2024, 12, 19, 0, 0), 'campaign_id': 22092016942, 'Status': 'Done'}, {'check_date': datetime.datetime(2024, 12, 19, 0, 0), 'campaign_id': 22477269516, 'Status': 'Done'}, {'check_date': datetime.datetime(2024, 12, 19, 0, 0), 'campaign_id': 22449604773, 'Status': 'Done'}, {'check_date': datetime.datetime(2024, 12, 19, 0, 0), 'campaign_id': 22356365700, 'Status': 'Done'}, {'check_date': datetime.datetime(2024, 12, 19, 0, 0), 'campaign_id': 22325801436, 'Status': 'Done'}, {'check_date': datetime.datetime(2024, 12, 19, 0, 0), 'campaign_id': 22334929651, 'Status': 'Done'}, {'check_date': datetime.datetime(2024, 12, 19, 0, 0), 'campaign_id': 22363115246, 'Status': 'Done'}  ... displaying 10 of 77216 total bound parameter sets ...  {'check_date': datetime.datetime(2025, 5, 19, 0, 0), 'campaign_id': 1832250978302001, 'Status': 'On Going'}, {'check_date': datetime.datetime(2025, 5, 19, 0, 0), 'campaign_id': 1832172982746162, 'Status': 'On Going'}]]\n",
      "(Background on this error at: https://sqlalche.me/e/20/9h9h)\n"
     ]
    }
   ],
   "source": [
    "# Establish MySQL connection\n",
    "DB_TYPE = 'mysql'  # Change to 'postgresql' for PostgreSQL\n",
    "DB_HOST = '125.212.245.36'\n",
    "DB_PORT = '3306'  # Change for different databases\n",
    "DB_USER = 'dashboard_report_vinamilk'\n",
    "DB_PASS = '6vtRhNxa79zPsfs5'\n",
    "DB_NAME = 'dashboard_report_vinamilk'\n",
    "\n",
    "\n",
    "# Connect to MySQL\n",
    "try:\n",
    "    conn = mysql.connector.connect(\n",
    "        host=DB_HOST,\n",
    "        user=DB_USER,\n",
    "        password=DB_PASS,\n",
    "        database=DB_NAME,\n",
    "        charset=\"utf8mb4\"\n",
    "    )\n",
    "    \n",
    "    if conn.is_connected():\n",
    "        cursor = conn.cursor()\n",
    "        print(\"✅ Connected to MySQL successfully!\")\n",
    "    else:\n",
    "        print(\"❌ Failed to connect.\")\n",
    "\n",
    "except mysql.connector.Error as e:\n",
    "    print(f\"Error: {e}\")\n",
    "# Create SQLAlchemy engine\n",
    "cursor = conn.cursor()\n",
    "cursor.execute(\"SET NAMES utf8mb4;\") \n",
    "cursor.execute(\"SET CHARACTER SET utf8mb4;\")\n",
    "engine = create_engine(f\"mysql+pymysql://{DB_USER}:{DB_PASS}@{DB_HOST}:{DB_PORT}/{DB_NAME}\")\n",
    "upload_to_mysql(inactive_campaigns, 'mapping_campaign_status', engine)\n",
    "cursor.close()\n",
    "conn.close()"
   ]
  },
  {
   "cell_type": "code",
   "execution_count": null,
   "metadata": {},
   "outputs": [],
   "source": [
    "import pandas as pd\n",
    "\n",
    "def process_dataframe(df, column_mapping, numeric_cols, extra_processing=None, column_order=None):\n",
    "    \"\"\"General function to process dataframes.\"\"\"\n",
    "    # Select and rename columns\n",
    "    existing_columns = [col for col in column_mapping if col in df.columns]\n",
    "    df = df[existing_columns].rename(columns=column_mapping).copy()\n",
    "    \n",
    "    # Convert 'Date' column\n",
    "    df['report_date'] = pd.to_datetime(df['report_date'], errors='coerce')\n",
    "    df['report_date'] = pd.to_datetime(df['report_date'], errors='coerce').dt.date\n",
    "\n",
    "    # Convert numeric columns\n",
    "    for col in numeric_cols:\n",
    "        if col in df.columns:\n",
    "            df[col] = pd.to_numeric(df[col], errors='coerce')\n",
    "    \n",
    "    # Apply dataset-specific processing\n",
    "    if extra_processing:\n",
    "        extra_processing(df)\n",
    "    \n",
    "    # Ensure all expected columns exist\n",
    "    if column_order:\n",
    "        for col in column_order:\n",
    "            if col not in df.columns:\n",
    "                df[col] = None\n",
    "        df = df[column_order]\n",
    "    \n",
    "    return df\n",
    "\n",
    "\n",
    "# Define column mappings & numeric columns for each dataset\n",
    "youtube_mapping = {'report_date': 'report_date',\n",
    "    'Category': 'Category',\n",
    "    'platform': 'Platform',\n",
    "    'Brand Name': 'Brand',\n",
    "    'buying_type': 'Buying_Type',\n",
    "    'TA': 'TA',\n",
    "    'Region': 'Region',\n",
    "    'campaign_name': 'Campaign_Name',\n",
    "    'campaign_id': 'Campaign_Id',\n",
    "    'camp_code': 'Campaign_code',\n",
    "    'Campaign Name': 'Campaign',\n",
    "    'Start Date': 'Start_Date',\n",
    "    'End Date': 'End_Date',\n",
    "    'freetext_2': 'freetext_2',\n",
    "    'camp_type': 'Format',\n",
    "    'impressions': 'Impression',\n",
    "    'clicks': 'Clicks',\n",
    "    'views': 'Views',\n",
    "    'currency_code': 'Currency_Code',\n",
    "    'cost': 'Cost_USD',\n",
    "    'engagements': 'Engagements',\n",
    "    'video_25': 'Video_Plays_25',\n",
    "    'video_50': 'Video_Plays_50',\n",
    "    'video_75': 'Video_Plays_75',\n",
    "    'video_100': 'Video_Plays_100'}  \n",
    "tiktok_mapping = {'report_date': 'report_date',\n",
    "    'Category': 'Category',\n",
    "    'platform': 'Platform',\n",
    "    'Brand Name': 'Brand',\n",
    "    'TA': 'TA',\n",
    "    'Region': 'Region',\n",
    "    'camp_type': 'Format',\n",
    "    'buying_type': 'Buying_Type',\n",
    "    'campaign_name': 'Campaign_Name',\n",
    "    'campaign_id': 'Campaign_Id',\n",
    "    'camp_code': 'Campaign_code',\n",
    "    'Campaign Name': 'Campaign',\n",
    "    'Start Date': 'Start_Date',\n",
    "    'End Date': 'End_Date',\n",
    "    'freetext_2': 'freetext_2',\n",
    "    'spend': 'Cost',\n",
    "    'impressions': 'Impression',\n",
    "    'clicks_destination': 'Clicks',\n",
    "    'engagements': 'Engagements',\n",
    "    'profile_visits': 'profile_visits',\n",
    "    '2_second_video_views': '23s_Video_Views',\n",
    "    '6_second_video_views': 'Views',\n",
    "    'engaged_view': '6s_Engaged_Views',\n",
    "    'video_views_p25': 'Video_Plays_25',\n",
    "    'video_views_p50': 'Video_Plays_50',\n",
    "    'video_views_p75': 'Video_Plays_75',\n",
    "    'video_views_p100': 'Video_Plays_100'}\n",
    "facebook_mapping = {'report_date': 'report_date',\n",
    "    'Category': 'Category',\n",
    "    'platform': 'Platform',\n",
    "    'Brand Name': 'Brand',\n",
    "    'camp_type': 'Format',\n",
    "    'buying_type': 'Buying_Type',\n",
    "    'TA': 'TA',\n",
    "    'Region': 'Region',\n",
    "    'campaign_name': 'Campaign_Name',\n",
    "    'campaign_id': 'Campaign_Id',\n",
    "    'camp_code': 'Campaign_code',\n",
    "    'Campaign Name': 'Campaign',\n",
    "    'Start Date': 'Start_Date',\n",
    "    'End Date': 'End_Date',\n",
    "    'freetext_2': 'freetext_2',\n",
    "    'impressions': 'Impression',\n",
    "    'cost': 'Cost',\n",
    "    'post_engagement': 'Engagements',\n",
    "    'video_played_3': '23s_Video_Views',\n",
    "    'thruplays': 'Views',\n",
    "    'video_played_25': 'Video_Plays_25',\n",
    "    'video_played_50': 'Video_Plays_50',\n",
    "    'video_played_75': 'Video_Plays_75',\n",
    "    'video_played_complete': 'Video_Plays_100',\n",
    "    'link_click': 'Clicks'}\n",
    "\n",
    "youtube_numeric_cols = ['Impression', 'Clicks', 'Views', 'Cost', 'Engagements', \n",
    "    'Video_Played_25', 'Video_Played_50', 'Video_Played_75', \n",
    "    'Video_Played_100']\n",
    "tiktok_numeric_cols = ['Cost', 'Impression', 'Clicks', 'Engagement',\n",
    "    '2s_Video_Views', '6s_Video_Views', '6s_Engaged_Views',\n",
    "   'Video_Played_25', 'Video_Played_50', 'Video_Played_75', \n",
    "    'Video_Played_100']\n",
    "facebook_numeric_cols = ['Engagement', '3s_Video_Plays', 'Impression',\n",
    "    'Cost', 'Clicks', 'Video_Played_25', 'Video_Played_50', 'Video_Played_75', \n",
    "    'Video_Played_100', 'Thruplays']\n",
    "\n",
    "\n",
    "# Process datasets\n",
    "report_campaign_overall_youtube = process_dataframe(df_yt_filter, youtube_mapping, youtube_numeric_cols)\n",
    "report_campaign_overall_tiktok = process_dataframe(df_tt_filter, tiktok_mapping, tiktok_numeric_cols)\n",
    "report_campaign_overall_facebook = process_dataframe(df_fb_filter, facebook_mapping, facebook_numeric_cols)"
   ]
  },
  {
   "cell_type": "code",
   "execution_count": null,
   "metadata": {},
   "outputs": [],
   "source": [
    "report_campaign_overall_youtube['Platform'] = 'YouTube'\n",
    "report_campaign_overall_tiktok['Platform'] = 'TikTok'\n",
    "report_campaign_overall_facebook['Platform'] = 'Facebook'"
   ]
  },
  {
   "cell_type": "code",
   "execution_count": null,
   "metadata": {},
   "outputs": [],
   "source": [
    "report_campaign_overall_total = pd.concat([report_campaign_overall_youtube, report_campaign_overall_tiktok, report_campaign_overall_facebook], ignore_index=True)"
   ]
  },
  {
   "cell_type": "code",
   "execution_count": null,
   "metadata": {},
   "outputs": [],
   "source": [
    "report_campaign_overall_total['freetext_2'] = report_campaign_overall_total['freetext_2'].replace('Nhom1 adhoc', 'Nhom1')\n",
    "report_campaign_overall_total['freetext_2'] = report_campaign_overall_total['freetext_2'].replace('G34', 'G3G4')\n"
   ]
  },
  {
   "cell_type": "code",
   "execution_count": null,
   "metadata": {},
   "outputs": [],
   "source": [
    "df_plan['Brand'] = df_plan['Brand'].replace('Optimum Master', 'Optimum')\n",
    "df_plan['Brand'] = df_plan['Brand'].replace('Dielac Gold', 'DG')\n",
    "df_plan['Brand'] = df_plan['Brand'].replace('Dielac Grow Plus', 'DGP')\n",
    "df_plan = df_plan.rename(columns={\"Freetext1\": \"freetext_2\"})"
   ]
  },
  {
   "cell_type": "code",
   "execution_count": null,
   "metadata": {},
   "outputs": [],
   "source": [
    "# Ensure Start Date and End Date are datetime\n",
    "df_plan[\"Start Date\"] = pd.to_datetime(df_plan[\"Start Date\"], errors=\"coerce\")\n",
    "df_plan[\"End Date\"] = pd.to_datetime(df_plan[\"End Date\"], errors=\"coerce\")"
   ]
  },
  {
   "cell_type": "code",
   "execution_count": null,
   "metadata": {},
   "outputs": [],
   "source": [
    "df_plan.columns = df_plan.columns.str.replace(' ', '_')"
   ]
  },
  {
   "cell_type": "code",
   "execution_count": null,
   "metadata": {},
   "outputs": [],
   "source": [
    "# Assuming df_plan has a column 'exchange_rate'\n",
    "exchange_rate_value = df_plan['exchange_rate'].iloc[0]  # Get the value from the first row\n",
    "\n",
    "# Now you can assign this value to the 'report_campaign_overall_total' DataFrame\n",
    "report_campaign_overall_total['exchange_rate'] = exchange_rate_value\n",
    "\n",
    "# Function to calculate cost based on platform and currency_code\n",
    "def calculate_cost(row):\n",
    "    if row['Platform'] == 'YouTube':\n",
    "        if row['Currency_Code'] == 'USD':\n",
    "            return row['Cost_USD'] * row['exchange_rate']\n",
    "        elif row['Currency_Code'] == 'VND':\n",
    "            return row['Cost_USD'] * 1  # No exchange rate needed for VND\n",
    "        else:\n",
    "            return row['Cost_USD']  # For other currencies, just return the cost in USD\n",
    "    else:\n",
    "        # No changes or calculations for other platforms, return the cost as is\n",
    "        return row['Cost']\n",
    "\n",
    "# Apply the function to each row in the DataFrame\n",
    "report_campaign_overall_total['Cost'] = report_campaign_overall_total.apply(calculate_cost, axis=1)"
   ]
  },
  {
   "cell_type": "code",
   "execution_count": null,
   "metadata": {},
   "outputs": [],
   "source": [
    "def preprocess_campaign_data(df):\n",
    "    # Rename column\n",
    "    df = df.rename(columns={'CATE': 'Category'})\n",
    "    \n",
    "    # Define columns\n",
    "    numeric_cols = ['Impression', 'Clicks', 'Views', 'Cost', 'Engagements', 'Video_Plays_25',\n",
    "              'Video_Plays_50', 'Video_Plays_75', 'Video_Plays_100', '23s_Video_Views', '6s_Engaged_Views', 'profile_visits']\n",
    "    \n",
    "    group_cols = ['Category', 'Brand', 'Campaign', 'Platform', 'freetext_2', 'Start_Date', 'End_Date', 'Campaign_code', 'Format', 'TA']\n",
    "\n",
    "    # Group and sum\n",
    "    groupdf = df.groupby(group_cols, dropna=False)[numeric_cols].sum().reset_index()\n",
    "    \n",
    "    # Convert dates\n",
    "    groupdf['Start_Date'] = pd.to_datetime(groupdf['Start_Date'], errors='coerce')\n",
    "    groupdf['End_Date'] = pd.to_datetime(groupdf['End_Date'], errors='coerce')\n",
    "    \n",
    "    # Campaign duration\n",
    "    groupdf['campaign_duration'] = (groupdf['End_Date'] - groupdf['Start_Date']).dt.days\n",
    "\n",
    "    # Set report_date as max End_Date from original df\n",
    "    report_date = pd.to_datetime(df['report_date'], errors='coerce').max().normalize()\n",
    "    groupdf['report_date'] = report_date\n",
    "\n",
    "    # Active day = from Start_Date to report_date\n",
    "    groupdf['active_day'] = (groupdf['report_date'] - groupdf['Start_Date']).dt.days\n",
    "    \n",
    "    return groupdf\n",
    "\n",
    "groupdf = preprocess_campaign_data(report_campaign_overall_total)"
   ]
  },
  {
   "cell_type": "code",
   "execution_count": null,
   "metadata": {},
   "outputs": [],
   "source": [
    "print(\"--- Initial Data Check ---\")\n",
    "# Convert to datetime and handle errors\n",
    "report_campaign_overall_total['report_date'] = pd.to_datetime(report_campaign_overall_total['report_date'], errors='coerce')\n",
    "\n",
    "# Drop rows where date conversion failed\n",
    "initial_rows = len(report_campaign_overall_total)\n",
    "report_campaign_overall_total = report_campaign_overall_total.dropna(subset=['report_date'])\n",
    "print(f\"Dropped {initial_rows - len(report_campaign_overall_total)} rows due to invalid dates.\")\n",
    "\n",
    "# Check date range of the source DataFrame\n",
    "if not report_campaign_overall_total.empty:\n",
    "    min_date = report_campaign_overall_total['report_date'].min()\n",
    "    max_date = report_campaign_overall_total['report_date'].max()\n",
    "    print(f\"Source data date range: {min_date} to {max_date}\")\n",
    "    print(f\"Source columns: {report_campaign_overall_total.columns.tolist()}\") # Show all columns\n",
    "else:\n",
    "    print(\"Source DataFrame is empty after handling invalid dates.\")\n",
    "    # exit()\n",
    "\n",
    "\n",
    "# --- Processing Loop for Cumulative Data ---\n",
    "print(\"\\n--- Processing Loop (Cumulative) ---\")\n",
    "start_date = datetime(2025, 4, 1)\n",
    "end_date = datetime(2025, 4, 24)\n",
    "\n",
    "# Use a dictionary to store the results\n",
    "daily_cumulative_reports = {}\n",
    "\n",
    "if not report_campaign_overall_total.empty:\n",
    "    for i in range((end_date - start_date).days + 1):\n",
    "        day = start_date + timedelta(days=i)\n",
    "        day_key = f\"day_{i + 1}\" # e.g., day_1, day_2\n",
    "\n",
    "        # Normalize the date column for comparison (removes time part)\n",
    "        normalized_dates = report_campaign_overall_total['report_date'].dt.normalize()\n",
    "\n",
    "        # Filter rows where report_date <= current day (cumulative)\n",
    "        # Use pd.Timestamp for comparison robustness\n",
    "        current_day_timestamp = pd.Timestamp(day).normalize()\n",
    "\n",
    "        # *** This filter selects rows based on date BUT keeps ALL original columns ***\n",
    "        df_day_cumulative = report_campaign_overall_total[normalized_dates <= current_day_timestamp].copy()\n",
    "        # Using .copy() is good practice here to ensure the slice is independent\n",
    "\n",
    "        # Store the resulting DataFrame (with all its columns) in the dictionary\n",
    "        daily_cumulative_reports[day_key] = df_day_cumulative\n",
    "\n",
    "        # Debug print: show the day being processed and the shape of the resulting df\n",
    "        print(f\"Processed {day.strftime('%Y-%m-%d')} ({day_key}): Found {len(df_day_cumulative)} cumulative rows.\")\n",
    "\n",
    "else:\n",
    "    print(\"Skipping loop because source DataFrame has no valid date entries.\")\n"
   ]
  },
  {
   "cell_type": "code",
   "execution_count": null,
   "metadata": {},
   "outputs": [],
   "source": [
    "from datetime import datetime, timedelta\n",
    "report_campaign_overall_total['report_date'] = pd.to_datetime(report_campaign_overall_total['report_date'], errors='coerce')\n",
    "\n",
    "# Create one DataFrame per day from 2025-04-01 to 2025-04-10\n",
    "start_date = datetime(2025, 4, 1)\n",
    "end_date = datetime(2025, 4, 24)\n",
    "\n",
    "for i in range((end_date - start_date).days + 1):\n",
    "    day = start_date + timedelta(days=i)\n",
    "    day_str = str(i + 1)  # 1, 2, ..., 10\n",
    "\n",
    "    # Filter rows where report_date == current day\n",
    "    df_day = report_campaign_overall_total[\n",
    "        report_campaign_overall_total['report_date'].dt.normalize() <= pd.to_datetime(day)\n",
    "    ]\n",
    "\n",
    "    # Assign to dynamic variable\n",
    "    globals()[f'report_campaign_overall_total_{day_str}'] = df_day\n"
   ]
  },
  {
   "cell_type": "code",
   "execution_count": null,
   "metadata": {},
   "outputs": [],
   "source": [
    "grouped_cumulative_reports = {}  # To store processed DataFrames\n",
    "\n",
    "for day_key, df in daily_cumulative_reports.items():\n",
    "    try:\n",
    "        groupdf = preprocess_campaign_data(df)\n",
    "\n",
    "        if groupdf is None:\n",
    "            print(f\"[Warning] preprocess_campaign_data() returned None for {day_key}\")\n",
    "        else:\n",
    "            grouped_cumulative_reports[day_key] = groupdf\n",
    "            print(f\"[Info] Successfully processed {day_key}\")\n",
    "            \n",
    "    except Exception as e:\n",
    "        print(f\"[Error] Failed to process {day_key}: {e}\")\n",
    "\n",
    "for i in range(1, 21):\n",
    "    key = f'day_{i}'\n",
    "    if key in grouped_cumulative_reports:\n",
    "        globals()[f'grouped_df_day{i}'] = grouped_cumulative_reports[key]\n"
   ]
  },
  {
   "cell_type": "code",
   "execution_count": null,
   "metadata": {},
   "outputs": [],
   "source": [
    "# Combine all DataFrames and add a 'day' column to keep track\n",
    "groupdf = pd.concat(\n",
    "    [df.assign(day=key) for key, df in grouped_cumulative_reports.items()],\n",
    "    ignore_index=True\n",
    ")"
   ]
  },
  {
   "cell_type": "code",
   "execution_count": null,
   "metadata": {},
   "outputs": [],
   "source": [
    "df_ga= pd.read_excel('/Users/khanhvx/Downloads/df_ga.xlsx')\n",
    "# Step 1: Replace 'Toàn Quốc' with 'NAT' in Geo\n",
    "df_ga['Geo'] = df_ga['Geo'].replace('Toàn Quốc', 'NAT')\n",
    "\n",
    "# Step 2: Create TA column from Gender and Age\n",
    "def make_ta(gender, age):\n",
    "    try:\n",
    "        first_letter = gender[0].upper()\n",
    "        age_range = f\"{age[:2]}-{age[2:]}\"\n",
    "        return f\"{first_letter}{age_range}\"\n",
    "    except:\n",
    "        return None  # or you can return f\"{gender}_{age}\" as fallback\n",
    "\n",
    "df_ga['TA'] = df_ga.apply(lambda row: make_ta(row['Gender'], row['Age']), axis=1)\n",
    "df_ga\n",
    "df_ga_summary = df_ga.groupby([\n",
    "    'Campaign Name', \n",
    "    'Cate', \n",
    "    'Brand', \n",
    "    'Start Date', \n",
    "    'Buying Method', \n",
    "    'Geo', \n",
    "    'Platform', \n",
    "    'TA'\n",
    "])[[\n",
    "    'sessions', \n",
    "    'engagedSessions', \n",
    "    'addToCarts', \n",
    "    'purchaseRevenue', \n",
    "    'ecommercePurchases', \n",
    "    'screenPageViews'\n",
    "]].sum().reset_index()\n",
    "\n",
    "df_ga_summary = df_ga_summary.rename(columns={\n",
    "    'Campaign Name': 'Campaign',\n",
    "    'Cate': 'Category',\n",
    "    'Start Date': 'Start_Date',\n",
    "    'Buying Method': 'Buying_Method',\n",
    "    'Geo': 'Region'\n",
    "})\n",
    "df_ga_summary\n"
   ]
  },
  {
   "cell_type": "code",
   "execution_count": 27,
   "metadata": {},
   "outputs": [
    {
     "ename": "NameError",
     "evalue": "name 'df_ga_summary' is not defined",
     "output_type": "error",
     "traceback": [
      "\u001b[0;31m---------------------------------------------------------------------------\u001b[0m",
      "\u001b[0;31mNameError\u001b[0m                                 Traceback (most recent call last)",
      "Cell \u001b[0;32mIn[27], line 22\u001b[0m\n\u001b[1;32m     19\u001b[0m     \u001b[38;5;28;01mreturn\u001b[39;00m df\n\u001b[1;32m     21\u001b[0m \u001b[38;5;66;03m# Apply normalization\u001b[39;00m\n\u001b[0;32m---> 22\u001b[0m df_ga_summary \u001b[38;5;241m=\u001b[39m normalize_cols(\u001b[43mdf_ga_summary\u001b[49m\u001b[38;5;241m.\u001b[39mcopy(), merge_cols, \u001b[38;5;124m'\u001b[39m\u001b[38;5;124mga\u001b[39m\u001b[38;5;124m'\u001b[39m) \u001b[38;5;66;03m# Use .copy() to avoid SettingWithCopyWarning\u001b[39;00m\n\u001b[1;32m     23\u001b[0m report_campaign_summary \u001b[38;5;241m=\u001b[39m normalize_cols(groupdf\u001b[38;5;241m.\u001b[39mcopy(), merge_cols, \u001b[38;5;124m'\u001b[39m\u001b[38;5;124mtotal\u001b[39m\u001b[38;5;124m'\u001b[39m)\n\u001b[1;32m     25\u001b[0m \u001b[38;5;66;03m# Step 1: Normalize (already done)\u001b[39;00m\n\u001b[1;32m     26\u001b[0m \n\u001b[1;32m     27\u001b[0m \u001b[38;5;66;03m# Step 2: Group and sum GA summary\u001b[39;00m\n",
      "\u001b[0;31mNameError\u001b[0m: name 'df_ga_summary' is not defined"
     ]
    }
   ],
   "source": [
    "import pandas as pd\n",
    "\n",
    "# Assuming df_ga_summary and report_campaign_summary are already loaded\n",
    "\n",
    "merge_cols = ['Campaign', 'Category', 'Platform', 'Brand', 'Start_Date']\n",
    "\n",
    "# --- Refined Normalization ---\n",
    "def normalize_cols(df, cols, prefix):\n",
    "    for col in cols:\n",
    "        # Handle dates explicitly first if they are datetime objects\n",
    "        if pd.api.types.is_datetime64_any_dtype(df[col]):\n",
    "             # Normalize to 'YYYY-MM-DD' format. Adjust if needed.\n",
    "            df[f'{prefix}_{col}'] = pd.to_datetime(df[col]).dt.strftime('%Y-%m-%d')\n",
    "        else:\n",
    "            # Apply string normalization for others\n",
    "            df[f'{prefix}_{col}'] = df[col].astype(str).str.strip().str.lower().str.replace(r'\\s+', '', regex=True)\n",
    "            # Handle potential 'nan' strings if they should be treated as actual NaN for merging (optional)\n",
    "            # df[f'{prefix}_{col}'] = df[f'{prefix}_{col}'].replace('nan', pd.NA)\n",
    "    return df\n",
    "\n",
    "# Apply normalization\n",
    "df_ga_summary = normalize_cols(df_ga_summary.copy(), merge_cols, 'ga') # Use .copy() to avoid SettingWithCopyWarning\n",
    "report_campaign_summary = normalize_cols(groupdf.copy(), merge_cols, 'total')\n",
    "\n",
    "# Step 1: Normalize (already done)\n",
    "\n",
    "# Step 2: Group and sum GA summary\n",
    "ga_grouped = df_ga_summary.groupby(\n",
    "    [f'ga_{col}' for col in merge_cols], as_index=False\n",
    ").sum(numeric_only=True)  # Ensures only numeric metric columns are summed\n",
    "\n",
    "# Step 3: Merge the summed GA data with the report summary\n",
    "merged_df_ga = pd.merge(\n",
    "    report_campaign_summary,\n",
    "    ga_grouped,\n",
    "    how='left',\n",
    "    left_on=[f'total_{col}' for col in merge_cols],\n",
    "    right_on=[f'ga_{col}' for col in merge_cols],\n",
    "    suffixes=('', '_ga')\n",
    ")\n",
    "\n",
    "# Step 4: Drop helper columns\n",
    "merged_df_ga = merged_df_ga.drop(\n",
    "    columns=[col for col in merged_df_ga.columns if col.startswith('ga_') or col.startswith('total_') or col.endswith('_total')]\n",
    ")\n",
    "\n",
    "merged_df_ga"
   ]
  },
  {
   "cell_type": "code",
   "execution_count": null,
   "metadata": {},
   "outputs": [
    {
     "ename": "NameError",
     "evalue": "name 'merged_df_ga' is not defined",
     "output_type": "error",
     "traceback": [
      "\u001b[0;31m---------------------------------------------------------------------------\u001b[0m",
      "\u001b[0;31mNameError\u001b[0m                                 Traceback (most recent call last)",
      "Cell \u001b[0;32mIn[26], line 7\u001b[0m\n\u001b[1;32m      2\u001b[0m merge_keys \u001b[38;5;241m=\u001b[39m  [\u001b[38;5;124m'\u001b[39m\u001b[38;5;124mCampaign\u001b[39m\u001b[38;5;124m'\u001b[39m, \u001b[38;5;124m'\u001b[39m\u001b[38;5;124mFunnel\u001b[39m\u001b[38;5;124m'\u001b[39m, \u001b[38;5;124m'\u001b[39m\u001b[38;5;124mCategory\u001b[39m\u001b[38;5;124m'\u001b[39m, \u001b[38;5;124m'\u001b[39m\u001b[38;5;124mRegion\u001b[39m\u001b[38;5;124m'\u001b[39m, \u001b[38;5;124m'\u001b[39m\u001b[38;5;124mPlatform\u001b[39m\u001b[38;5;124m'\u001b[39m, \u001b[38;5;124m'\u001b[39m\u001b[38;5;124mBrand\u001b[39m\u001b[38;5;124m'\u001b[39m, \u001b[38;5;124m'\u001b[39m\u001b[38;5;124mTA\u001b[39m\u001b[38;5;124m'\u001b[39m, \u001b[38;5;124m'\u001b[39m\u001b[38;5;124mBuying_Method\u001b[39m\u001b[38;5;124m'\u001b[39m, \u001b[38;5;124m'\u001b[39m\u001b[38;5;124mPlan_Start_Date\u001b[39m\u001b[38;5;124m'\u001b[39m, \u001b[38;5;124m'\u001b[39m\u001b[38;5;124mActual_Start_Date\u001b[39m\u001b[38;5;124m'\u001b[39m, \u001b[38;5;124m'\u001b[39m\u001b[38;5;124mAudience_group\u001b[39m\u001b[38;5;124m'\u001b[39m]\n\u001b[1;32m      4\u001b[0m \u001b[38;5;66;03m# Merge using the lowercase versions\u001b[39;00m\n\u001b[1;32m      5\u001b[0m merged_df \u001b[38;5;241m=\u001b[39m pd\u001b[38;5;241m.\u001b[39mmerge(\n\u001b[1;32m      6\u001b[0m     df_plan,\n\u001b[0;32m----> 7\u001b[0m     \u001b[43mmerged_df_ga\u001b[49m,\n\u001b[1;32m      8\u001b[0m     on\u001b[38;5;241m=\u001b[39mmerge_keys,\n\u001b[1;32m      9\u001b[0m     how\u001b[38;5;241m=\u001b[39m\u001b[38;5;124m'\u001b[39m\u001b[38;5;124minner\u001b[39m\u001b[38;5;124m'\u001b[39m)\n",
      "\u001b[0;31mNameError\u001b[0m: name 'merged_df_ga' is not defined"
     ]
    }
   ],
   "source": [
    "# Create lowercase versions of the key columns for both dataframes\n",
    "merge_keys =  ['Campaign', 'Funnel', 'Category', 'Region', 'Platform', 'Brand', 'TA', 'Buying_Method', 'Plan_Start_Date', 'Actual_Start_Date', 'Audience_group']\n",
    "\n",
    "# Merge using the lowercase versions\n",
    "merged_df = pd.merge(\n",
    "    merged_df_ga,\n",
    "    df_plan,\n",
    "    on=merge_keys,\n",
    "    how='inner')\n"
   ]
  },
  {
   "cell_type": "code",
   "execution_count": null,
   "metadata": {},
   "outputs": [],
   "source": [
    "merged_df"
   ]
  },
  {
   "cell_type": "code",
   "execution_count": null,
   "metadata": {},
   "outputs": [],
   "source": [
    "merged_df.drop_duplicates()"
   ]
  },
  {
   "cell_type": "code",
   "execution_count": null,
   "metadata": {},
   "outputs": [],
   "source": [
    "merged_df"
   ]
  },
  {
   "cell_type": "code",
   "execution_count": null,
   "metadata": {},
   "outputs": [],
   "source": [
    "(merged_df['Brand'] + ' - ' + merged_df['freetext_2']).value_counts().sort_index()"
   ]
  },
  {
   "cell_type": "code",
   "execution_count": null,
   "metadata": {},
   "outputs": [],
   "source": [
    "total_cost = merged_df[merged_df['report_date'] == '2025-04-20 00:00:00']['Net_media_cost'].sum()\n",
    "print(f\"Total Net Media Cost on 2025-04-20: {total_cost}\")"
   ]
  },
  {
   "cell_type": "code",
   "execution_count": null,
   "metadata": {},
   "outputs": [],
   "source": [
    "df_total_packagechange = df_total[df_total.campaign_name.str.contains('PackageChange')]\n",
    "df_total_packagechange.cost.sum()"
   ]
  },
  {
   "cell_type": "code",
   "execution_count": null,
   "metadata": {},
   "outputs": [],
   "source": [
    "# Assuming each campaign_name maps to a unique campaign_id\n",
    "df_campaigns = df_total_packagechange[['campaign_name', 'campaign_id']].drop_duplicates().reset_index(drop=True)\n",
    "df_campaigns"
   ]
  },
  {
   "cell_type": "code",
   "execution_count": null,
   "metadata": {},
   "outputs": [],
   "source": [
    "df_total_packagechange\n"
   ]
  },
  {
   "cell_type": "code",
   "execution_count": null,
   "metadata": {},
   "outputs": [],
   "source": [
    "merged_df"
   ]
  },
  {
   "cell_type": "code",
   "execution_count": null,
   "metadata": {},
   "outputs": [],
   "source": [
    "merged_df['Funnel'] = merged_df['Funnel'].replace('AW', 'Awareness')"
   ]
  },
  {
   "cell_type": "code",
   "execution_count": null,
   "metadata": {},
   "outputs": [],
   "source": [
    "merged_df"
   ]
  },
  {
   "cell_type": "code",
   "execution_count": null,
   "metadata": {},
   "outputs": [],
   "source": [
    "# Ensure report_date is in datetime format\n",
    "\n",
    "# Get the latest date in the dataset\n",
    "max_report_date = merged_df['report_date'].max()\n",
    "\n",
    "# Create the Lasted Day column\n",
    "merged_df['Lasted_Day'] = merged_df['report_date'] == max_report_date\n",
    "\n",
    "merged_df"
   ]
  },
  {
   "cell_type": "code",
   "execution_count": null,
   "metadata": {},
   "outputs": [],
   "source": [
    "merged_df['Audience'] = merged_df['freetext_2'].astype(str) + '\\n' + merged_df['TA_x'].astype(str)\n",
    "\n",
    "\n",
    "# Ensure datetime types\n",
    "merged_df['report_date'] = pd.to_datetime(merged_df['report_date'])\n",
    "merged_df['Start_Date_x'] = pd.to_datetime(merged_df['Start_Date_x'])\n",
    "\n",
    "# Calculate custom week number from Start_Date_x, starting from Monday\n",
    "merged_df['weeknum'] = ((merged_df['report_date'] - merged_df['Start_Date_x']).dt.days // 7) + 1\n",
    "\n",
    "# Format the new date column\n",
    "merged_df['formatted_date'] = merged_df['report_date'].dt.strftime('%b %d, %Y') + \\\n",
    "                               ' - ' + merged_df['report_date'].dt.day_name() + \\\n",
    "                               ' - Week ' + merged_df['weeknum'].astype(str)\n",
    "\n",
    "\n",
    "merged_df"
   ]
  },
  {
   "cell_type": "code",
   "execution_count": null,
   "metadata": {},
   "outputs": [],
   "source": [
    "from sqlalchemy import create_engine\n",
    "import pandas as pd\n",
    "\n",
    "DB_TYPE = 'mysql'  # Change to 'postgresql' for PostgreSQL\n",
    "DB_HOST = '10.0.0.3'\n",
    "DB_PORT = '3306'  # Change for different databases\n",
    "DB_USER = 'dashboard_report_vinamilk'\n",
    "DB_PASS = '6vtRhNxa79zPsfs5'\n",
    "DB_NAME = 'dashboard_report_vinamilk'\n",
    "\n",
    "try:\n",
    "    conn = mysql.connector.connect(\n",
    "        host=DB_HOST,\n",
    "        user=DB_USER,\n",
    "        password=DB_PASS,\n",
    "        database=DB_NAME,\n",
    "        charset=\"utf8mb4\"\n",
    "    )\n",
    "    \n",
    "    if conn.is_connected():\n",
    "        cursor = conn.cursor()\n",
    "        print(\"Connected to MySQL successfully!\")\n",
    "    else:\n",
    "        print(\"Failed to connect.\")\n",
    "\n",
    "except mysql.connector.Error as e:\n",
    "    print(f\"Error: {e}\")\n",
    "\n",
    "# Create SQLAlchemy engine\n",
    "cursor = conn.cursor()\n",
    "cursor.execute(\"SET NAMES utf8mb4;\") \n",
    "cursor.execute(\"SET CHARACTER SET utf8mb4;\")\n",
    "engine = create_engine(f\"mysql+pymysql://{DB_USER}:{DB_PASS}@{DB_HOST}:{DB_PORT}/{DB_NAME}\")\n",
    "\n",
    "def upload_to_mysql(df, table_name, engine, if_exists='replace'):\n",
    "    \"\"\"\n",
    "    Uploads a DataFrame to a MySQL table.\n",
    "    \n",
    "    :param df: Pandas DataFrame to upload\n",
    "    :param table_name: Name of the table in the database\n",
    "    :param engine: SQLAlchemy engine object\n",
    "    :param if_exists: What to do if the table already exists ('fail', 'replace', 'append')\n",
    "    \"\"\"\n",
    "    try:\n",
    "        # Upload DataFrame to MySQL\n",
    "        df.to_sql(table_name, engine, if_exists=if_exists, index=False)\n",
    "        \n",
    "        print(f\"Data successfully uploaded to {table_name}!\")\n",
    "    except Exception as e:\n",
    "        print(f\"Error uploading data to {table_name}: {e}\")\n",
    "\n",
    "# Example usage:\n",
    "# engine = create_engine(f\"mysql+pymysql://{DB_USER}:{DB_PASS}@{DB_HOST}:{DB_PORT}/{DB_NAME}\")\n",
    "# upload_to_mysql(df_tt, 'report_campaign_digital_tiktok', engine)"
   ]
  },
  {
   "cell_type": "code",
   "execution_count": null,
   "metadata": {},
   "outputs": [],
   "source": [
    "merged_df.Cost.sum()"
   ]
  },
  {
   "cell_type": "code",
   "execution_count": null,
   "metadata": {},
   "outputs": [],
   "source": [
    "merged_df['Campaign_code'] = merged_df['Campaign_code'].str.replace('-0304-0405', '-0703-0405')\n",
    "merged_df['Campaign_code'].value_counts()"
   ]
  },
  {
   "cell_type": "code",
   "execution_count": null,
   "metadata": {},
   "outputs": [],
   "source": [
    "upload_to_mysql(merged_df, 'report_campaign_overall_total', engine)"
   ]
  },
  {
   "cell_type": "code",
   "execution_count": null,
   "metadata": {},
   "outputs": [],
   "source": [
    "upload_to_mysql(df_plan, 'report_campaign_overall_mediaplan', engine)"
   ]
  },
  {
   "cell_type": "code",
   "execution_count": null,
   "metadata": {},
   "outputs": [],
   "source": [
    "merged_df.Cost.sum()"
   ]
  },
  {
   "cell_type": "code",
   "execution_count": null,
   "metadata": {},
   "outputs": [],
   "source": [
    "\n",
    "merged_df['Campaign_code'] = merged_df['Campaign_code'].str.replace('Optimum Gold', 'Optimum')\n",
    "merged_df['Campaign_code'] = merged_df['Campaign_code'].str.replace('Optimum Colos', 'Optimum')\n"
   ]
  },
  {
   "cell_type": "code",
   "execution_count": null,
   "metadata": {},
   "outputs": [],
   "source": [
    "merged_df.to_excel('/Users/khanhvx/Downloads/test.xlsx', index=False)"
   ]
  },
  {
   "cell_type": "code",
   "execution_count": null,
   "metadata": {},
   "outputs": [],
   "source": [
    "merged_df2= merged_df.copy()"
   ]
  },
  {
   "cell_type": "code",
   "execution_count": null,
   "metadata": {},
   "outputs": [],
   "source": [
    "\n",
    "\n",
    "try:\n",
    "    # Establish MySQL connection\n",
    "    conn = mysql.connector.connect(\n",
    "        host=\"10.0.0.3\",\n",
    "        port = '3306',\n",
    "        user=\"dashboard_report_vinamilk\",\n",
    "        password=\"6vtRhNxa79zPsfs5\",\n",
    "        database=\"dashboard_report_vinamilk\"\n",
    "    )\n",
    "\n",
    "    print(\"Connected to MySQL successfully!\")\n",
    "\n",
    "    # Create a cursor and execute the query\n",
    "    cursor = conn.cursor()\n",
    "    cursor.execute(\"SELECT * FROM report_campaign_overall_total\")\n",
    "\n",
    "    # Fetch column names\n",
    "    column_names = [desc[0] for desc in cursor.description]\n",
    "\n",
    "    # Fetch all rows and convert to DataFrame\n",
    "    rows = cursor.fetchall()\n",
    "    df_check2 = pd.DataFrame(rows, columns=column_names)\n",
    "    \n",
    "\n",
    "except mysql.connector.Error as err:\n",
    "    print(f\"Error: {err}\")\n",
    "\n",
    "finally:\n",
    "    if 'cursor' in locals():\n",
    "        cursor.close()\n",
    "    if 'conn' in locals() and conn.is_connected():\n",
    "        conn.close()\n",
    "        print(\"MySQL connection closed.\")\n",
    "\n",
    "df_check2.head()"
   ]
  },
  {
   "cell_type": "code",
   "execution_count": null,
   "metadata": {},
   "outputs": [],
   "source": [
    "import mysql.connector\n",
    "try:\n",
    "    # Connect to MySQL\n",
    "    conn = mysql.connector.connect(\n",
    "        host=DB_HOST,\n",
    "        user=DB_USER,\n",
    "        password=DB_PASS,\n",
    "        database=DB_NAME,\n",
    "        charset=\"utf8mb4\"\n",
    "    )\n",
    "    \n",
    "    if conn.is_connected():\n",
    "        cursor = conn.cursor()\n",
    "        print(\"✅ Connected to MySQL successfully!\")\n",
    "\n",
    "        # Drop tables\n",
    "        tables_to_drop = [\"report_campaign_overall_total\"]\n",
    "        \n",
    "        for table in tables_to_drop:\n",
    "            try:\n",
    "                cursor.execute(f\"DROP TABLE IF EXISTS {table};\")\n",
    "                print(f\"✅ Table {table} dropped successfully!\")\n",
    "            except mysql.connector.Error as e:\n",
    "                print(f\"❌ Error dropping table {table}: {e}\")\n",
    "\n",
    "        # Commit changes\n",
    "        conn.commit()\n",
    "\n",
    "except mysql.connector.Error as e:\n",
    "    print(f\"❌ Error: {e}\")\n",
    "\n",
    "finally:\n",
    "    # Close connection\n",
    "    if 'cursor' in locals():\n",
    "        cursor.close()\n",
    "    if 'conn' in locals() and conn.is_connected():\n",
    "        conn.close()\n",
    "        print(\"✅ MySQL connection closed.\")"
   ]
  },
  {
   "cell_type": "code",
   "execution_count": null,
   "metadata": {},
   "outputs": [],
   "source": [
    "conn = mysql.connector.connect(\n",
    "    host=\"10.0.0.3\",\n",
    "    port = '3306',\n",
    "    user=\"dashboard_report_vinamilk\",\n",
    "    password=\"6vtRhNxa79zPsfs5\",\n",
    "    database=\"dashboard_report_vinamilk\"\n",
    ")\n",
    "\n",
    "cursor = conn.cursor()\n",
    "\n",
    "\n",
    "\n",
    "merge_df = get_data(\"report_campaign_overall_total\")\n",
    "\n",
    "if 'cursor' in locals():\n",
    "    cursor.close()\n",
    "if 'conn' in locals() and conn.is_connected():\n",
    "    conn.close()\n",
    "    print(\"MySQL connection closed.\")"
   ]
  },
  {
   "cell_type": "code",
   "execution_count": null,
   "metadata": {},
   "outputs": [],
   "source": [
    "reach_df = pd.read_excel('/Users/khanhvx/Downloads/SBTE Package Change_Reach weekly.xlsx', sheet_name='Reach')\n",
    "merged_df1 = merge_df.copy()\n",
    "merged_df1 = merged_df1.drop(columns='Reach', errors='ignore')\n",
    "merged_df1 = pd.merge(merged_df1, reach_df, how='left', on=['Campaign_code', 'Platform', 'Brand', 'freetext_2'])"
   ]
  },
  {
   "cell_type": "code",
   "execution_count": null,
   "metadata": {},
   "outputs": [],
   "source": [
    "merged_df1"
   ]
  },
  {
   "cell_type": "code",
   "execution_count": null,
   "metadata": {},
   "outputs": [],
   "source": [
    "# Align Start_Date_x to the most recent Sunday (week starts on Sunday)\n",
    "start_week_monday = merged_df1['Start_Date_x'] - pd.to_timedelta(merged_df1['Start_Date_x'].dt.weekday, unit='D')\n",
    "\n",
    "# Calculate week number based on Sunday-starting weeks\n",
    "merged_df1['weeknum'] = ((merged_df1['report_date'] - start_week_monday).dt.days // 7) + 1\n",
    "\n",
    "# Format date with short weekday\n",
    "merged_df1['formatted_date'] = merged_df1['report_date'].dt.strftime('%b %d, %Y') + \\\n",
    "                              ' - ' + merged_df1['report_date'].dt.strftime('%a') + \\\n",
    "                              ' - Week ' + merged_df1['weeknum'].astype(str)"
   ]
  }
 ],
 "metadata": {
  "kernelspec": {
   "display_name": "Python 3",
   "language": "python",
   "name": "python3"
  },
  "language_info": {
   "codemirror_mode": {
    "name": "ipython",
    "version": 3
   },
   "file_extension": ".py",
   "mimetype": "text/x-python",
   "name": "python",
   "nbconvert_exporter": "python",
   "pygments_lexer": "ipython3",
   "version": "3.12.9"
  }
 },
 "nbformat": 4,
 "nbformat_minor": 2
}
